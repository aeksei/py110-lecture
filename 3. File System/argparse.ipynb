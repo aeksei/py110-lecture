{
  "cells": [
    {
      "metadata": {},
      "cell_type": "markdown",
      "source": "# Агрументы командной строки"
    },
    {
      "metadata": {},
      "cell_type": "markdown",
      "source": "Аргументы передаваемые при запуске интерепретатора python\n- `sys.argv` - список аргументов командной строки, передаваемых сценарию Python.  \n- `sys.argv[0]` является именем скрипта (пустой строкой в интерактивной оболочке)."
    },
    {
      "metadata": {
        "trusted": true
      },
      "cell_type": "code",
      "source": "import sys\nsys.argv",
      "execution_count": 1,
      "outputs": [
        {
          "output_type": "execute_result",
          "execution_count": 1,
          "data": {
            "text/plain": "['/home/nbuser/anaconda3_501/lib/python3.6/site-packages/ipykernel/__main__.py',\n '-f',\n '/home/nbuser/.local/share/jupyter/runtime/kernel-01bd1eb6-255b-4f69-aeff-b63909acc31b.json']"
          },
          "metadata": {}
        }
      ]
    },
    {
      "metadata": {},
      "cell_type": "markdown",
      "source": "Официально запуск вашего скрипта выглядит следующим образом:\n`/path/to/python.exe /path/to/file.py`\nСначала идет команда, которую нужно выполнить, далее – аргументы, которые в нее подаются, например, путь до скрипта.\n\nАргументов может быть несколько.\n`/path/to/python.exe /path/to/file.py –v –b –i “Test”`\nКаждое слово (разделенное пробелом) – отдельный аргумент."
    },
    {
      "metadata": {},
      "cell_type": "markdown",
      "source": "Как получить аргументы из командной строки?\nПростой способ – обратиться к модулю `sys`, объекту `argv`.\n\n`sys.argv` возвращает список аргументов командной строки, где каждый элемент список – отдельный аргумент (слово)\n\n```\npython.exe myfile.py –v 3 \nsys.argv -> ['myfile.py', '-v', '3']\n```\n\nПопробуем сделать скрипт, который будет принимать один аргумент, который будет отвечать за имя. И на основании этого выдавать приветсвенное сообщение"
    },
    {
      "metadata": {
        "trusted": true
      },
      "cell_type": "code",
      "source": "import sys\n\nif __name__ == \"__main__\":\n    if len(sys.argv) == 1:\n        print(\"Привет, мир!\")\n    else:\n        if len(sys.argv) < 3:\n            print(\"Ошибка. Слишком мало параметров.\")\n            sys.exit(1)\n\n        if len(sys.argv) > 3:\n            print(\"Ошибка. Слишком много параметров.\")\n            sys.exit(1)\n\n        param_name = sys.argv[1]\n        param_value = sys.argv[2]\n\n        if (param_name == \"--name\" or\n                param_name == \"-n\"):\n            print (\"Привет, {}!\".format (param_value) )\n        else:\n            print (\"Ошибка. Неизвестный параметр '{}'\".format (param_name) )\n            sys.exit (1)",
      "execution_count": null,
      "outputs": []
    },
    {
      "metadata": {},
      "cell_type": "markdown",
      "source": "## argparse\n`sys.argv` дает лишь возможность прочитать аргументы командной строки, проверять их корректность, наличие, выводить справку по ним приходится самим.\nДля решения данных проблем было создано несколько модулей, один из них – `argparse`.\n\n`argparse` включен в стандартный пакет интерпретатора, умеет работать с всеми видами аргументов (позиционные, именованные), поддерживает субкоманды и много еще чего."
    },
    {
      "metadata": {},
      "cell_type": "markdown",
      "source": "``` python\nimport argparse\n\ndef createParser ():\n    parser = argparse.ArgumentParser()\n    # вопрос означает что аргумент должен быть один или его может не быть\n    parser.add_argument('name', nargs='?')  # создадим один необязательный позиционный аргумент\n    return parser\n \n\nif __name__ == '__main__':\n    parser = createParser()  # создаем парсер\n    namespace = parser.parse_args()  # парсим аргументы\n \n    print (namespace)  # в переменной namespace будут находиться ваши расперсеные аргументы\n \n    if namespace.name:\n        print (\"Привет, {}!\".format (namespace.name) )\n    else:\n        print (\"Привет, мир!\")\n```\n"
    },
    {
      "metadata": {},
      "cell_type": "markdown",
      "source": "#### Парсинг аргументов\n```python\nparser.add_argument(‘-n’,\n                    dest=‘n’, \n                    action=“store”, \n                    type=int, \n                    required=True, \n                    help=‘Simple input counter’)\n```\n\nСтруктура команды:\n- `-n` – название аргумента, может начинаться с дефиса или нет\n - Если без дефиса – аргумент позиционный\n - Если с – аргумент именованный\n- `dest` – название переменной, в которой будет сохранено значение аргумента (если отсутствует – берется название аргумента)\n- `action` – действие, которое будет выполнено при наличии этого параметра.\n- `store` – сохраняет значение аргумента \n- `store_true, store_false, store_const` – сохраняет `True`, `False` или заранее заданное константное значение аргумента\n- `type` – тип данных значения\n- `required` – обязателен ли аргумент\n- `help` – подсказка, которая формируется и выводится в консоль"
    },
    {
      "metadata": {
        "trusted": true
      },
      "cell_type": "code",
      "source": "# добавление значения по умолчанию\nparser.add_argument('name', nargs='?', default='мир')",
      "execution_count": null,
      "outputs": []
    },
    {
      "metadata": {},
      "cell_type": "markdown",
      "source": "### Именнованные аргументы\n``` python\nparser.add_argument ('-n', '--name', default='мир')\n```\nВсе именованные параметры считаются необязательными\n\nЗначение по умолчанию равно `None`"
    },
    {
      "metadata": {},
      "cell_type": "markdown",
      "source": "С помощью аргумента `required` именованные параметры можно сделать обязательным\n``` python\nparser.add_argument ('-n', '--name', required=True)\n```"
    },
    {
      "metadata": {},
      "cell_type": "markdown",
      "source": "### Параметры как списки\n``` python\nparser.add_argument ('-n', '--name', nargs='+', default=['test'])\n```"
    },
    {
      "metadata": {},
      "cell_type": "markdown",
      "source": "### Указание типов параметров\n``` python\nparser.add_argument ('-c', '--count', default=1, type=int)\n```"
    },
    {
      "metadata": {},
      "cell_type": "markdown",
      "source": "### Имена файлов как параметры\n``` python\nparser.add_argument ('-n', '--name', type=open)\n```"
    },
    {
      "metadata": {},
      "cell_type": "markdown",
      "source": "Но если использовать `type=open`, то можно получить пугающий листинг при вызове ошибки. Поэтому есть `argparse.FileType()`, который обработает ошибку и выдаст её в читабельном виде\n``` python\nparser.add_argument ('-n', '--name', type=argparse.FileType())\nargparse.FileType(mode='r', bufsize=-1, encoding=None, errors=None)\n```\nАналогично мы можем принимать имя файла для записи, при этом только надо не забыть передать в фукнцию `argparse.FileType` в качестве первого параметра строку `'w'`."
    },
    {
      "metadata": {
        "trusted": true
      },
      "cell_type": "code",
      "source": "как работает argparse.FileType",
      "execution_count": null,
      "outputs": []
    },
    {
      "metadata": {},
      "cell_type": "markdown",
      "source": "### Параметры как флаги\n```python\nparser.add_argument ('-g', '--goodbye', action='store_const', const=True)\nparser.add_argument ('-g', '--goodbye', action='store_const', const=True, default=False)\n\nparser.add_argument ('-g', '--goodbye', action='store_true', default=False)\n```"
    },
    {
      "metadata": {},
      "cell_type": "markdown",
      "source": "### Subparsers \nМожно указывать различные подпарсеры, каждый из которых будет включаться только при определенных флагах и по-разному парсить дальнейший вход.\n```\npython network.py train -data /path/to/file.txt -classes /path/to/another/file.txt\npython network.py test -input /path/to/test_file.txt\n```\nПричем, `-data` и `-classes` аргументы при флаге `train`, а `-input` аргумент при флаге `test`"
    },
    {
      "metadata": {},
      "cell_type": "markdown",
      "source": "``` python\nsubparsers = parser.add_subparsers(dest='command')\n\ntrain_parser = subparsers.add_parser('train')\ntrain_parser.add_argument('-data', dest='data', required=True)\ntrain_parser.add_argument('-classes', dest='classes', required=True)\n\ntest_parser = subparsers.add_parser('test')\ntest_parser.add_argument('-input', required=True)\n```"
    },
    {
      "metadata": {
        "trusted": true
      },
      "cell_type": "markdown",
      "source": "Ожидает обязательный именованный аргумент со строкой.\n```python\nparser.add_argument('-i', type=str, required=True)  \n```\n\nОжидает именованный параметр `--user` и сохраняет в переменную значение `True`\n```python\nparser.add_argument('--user', action=\"store_true\")\n```"
    }
  ],
  "metadata": {
    "kernelspec": {
      "name": "python36",
      "display_name": "Python 3.6",
      "language": "python"
    },
    "language_info": {
      "mimetype": "text/x-python",
      "nbconvert_exporter": "python",
      "name": "python",
      "pygments_lexer": "ipython3",
      "version": "3.6.6",
      "file_extension": ".py",
      "codemirror_mode": {
        "version": 3,
        "name": "ipython"
      }
    }
  },
  "nbformat": 4,
  "nbformat_minor": 1
}