{
  "cells": [
    {
      "metadata": {},
      "cell_type": "markdown",
      "source": "# IO\n### Файловая система\nНу, здесь все просто.  \nОткрываем файл на запись:"
    },
    {
      "metadata": {
        "trusted": false
      },
      "cell_type": "code",
      "source": "f = open(\"filename\", \"tw\") # см. лекцию, какие флаги еще есть\nf.write(\"my string\")\nf.close()",
      "execution_count": null,
      "outputs": []
    },
    {
      "metadata": {
        "trusted": false
      },
      "cell_type": "code",
      "source": "# но вот так открывать/закрывать лучше:\nwith open(\"filename\", \"tr\") as f:\n    print(f.readlines())",
      "execution_count": null,
      "outputs": []
    },
    {
      "metadata": {},
      "cell_type": "markdown",
      "source": "Вообще менеджер контекста работает не только с файлами, а с любыми объектами, у которых определена операция __ enter __  \n(подробнее спрашивайте преподавателя на PY200)"
    },
    {
      "metadata": {},
      "cell_type": "markdown",
      "source": "### Сериализация"
    },
    {
      "metadata": {},
      "cell_type": "markdown",
      "source": "Вспоминаем: форматы сериализации бывают бинарные и текстовые. Первые быстрее и экономичнее, вторые - человекочитаемы и дебажатся.  \nРабота с JSON:"
    },
    {
      "metadata": {
        "trusted": false
      },
      "cell_type": "code",
      "source": "import json\na = json.dumps({\"Вася\": \"Пупкин\", None: 3})\nprint(a)    # а можно было и в файл записать \n            # (кстати, заметили проблемы с кодировкой? Если вы на Linux/MacOS - то не должны, а вот на Windows...)\nprint(json.loads(a))\n# для записи в файл - dump и load (без s)",
      "execution_count": null,
      "outputs": []
    },
    {
      "metadata": {},
      "cell_type": "markdown",
      "source": "Работа с pickle:"
    },
    {
      "metadata": {
        "trusted": false
      },
      "cell_type": "code",
      "source": "import pickle\na = pickle.dumps({\"Вася\": \"Пупкин\", None: 3})\nprint(a)  # ничего не понимаю\nprint(pickle.loads(a))\n# для записи в файл - аналогично",
      "execution_count": null,
      "outputs": []
    },
    {
      "metadata": {},
      "cell_type": "markdown",
      "source": "### argparse"
    },
    {
      "metadata": {},
      "cell_type": "markdown",
      "source": "Слегка сложновато сделать обработку аргументов **командной строки** в ячейке **интерпретатора**, так что идите-ка вы... в лекцию и внимательно читайте слайды.  \nНа практике пострадаем. :)"
    },
    {
      "metadata": {
        "trusted": false
      },
      "cell_type": "code",
      "source": "",
      "execution_count": null,
      "outputs": []
    }
  ],
  "metadata": {
    "kernelspec": {
      "name": "python3",
      "display_name": "Python 3",
      "language": "python"
    },
    "language_info": {
      "mimetype": "text/x-python",
      "nbconvert_exporter": "python",
      "name": "python",
      "pygments_lexer": "ipython3",
      "version": "3.5.4",
      "file_extension": ".py",
      "codemirror_mode": {
        "version": 3,
        "name": "ipython"
      }
    }
  },
  "nbformat": 4,
  "nbformat_minor": 2
}