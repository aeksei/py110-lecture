{
  "cells": [
    {
      "metadata": {},
      "cell_type": "markdown",
      "source": "# Работа с файловой системой"
    },
    {
      "metadata": {},
      "cell_type": "markdown",
      "source": "Для начала вспомним модуль `os`"
    },
    {
      "metadata": {
        "trusted": true
      },
      "cell_type": "code",
      "source": "import os.path\nos.path.join(\"/tmp/1\", \"temp.file\")  # конкатенация путей",
      "execution_count": 1,
      "outputs": [
        {
          "output_type": "execute_result",
          "execution_count": 1,
          "data": {
            "text/plain": "'/tmp/1/temp.file'"
          },
          "metadata": {}
        }
      ]
    },
    {
      "metadata": {
        "trusted": true
      },
      "cell_type": "code",
      "source": "import os\nos.path.join(os.getcwd(), \"tmp.txt\", 'tmp2.txt')",
      "execution_count": 4,
      "outputs": [
        {
          "output_type": "execute_result",
          "execution_count": 4,
          "data": {
            "text/plain": "'/home/nbuser/library/3. File System/tmp.txt/tmp2.txt'"
          },
          "metadata": {}
        }
      ]
    },
    {
      "metadata": {
        "trusted": true
      },
      "cell_type": "code",
      "source": "os.path.dirname(\"/tmp/1/temp.file\")  # имя каталога по заданному полному пути",
      "execution_count": 5,
      "outputs": [
        {
          "output_type": "execute_result",
          "execution_count": 5,
          "data": {
            "text/plain": "'/tmp/1'"
          },
          "metadata": {}
        }
      ]
    },
    {
      "metadata": {
        "trusted": true
      },
      "cell_type": "code",
      "source": "os.path.dirname(\"/tmp/1/temp/txt\")",
      "execution_count": 7,
      "outputs": [
        {
          "output_type": "execute_result",
          "execution_count": 7,
          "data": {
            "text/plain": "'/tmp/1/temp'"
          },
          "metadata": {}
        }
      ]
    },
    {
      "metadata": {
        "trusted": true
      },
      "cell_type": "code",
      "source": "os.path.basename(\"/tmp/1/temp.file\")  # имя файла по заданному полному пути",
      "execution_count": 8,
      "outputs": [
        {
          "output_type": "execute_result",
          "execution_count": 8,
          "data": {
            "text/plain": "'temp.file'"
          },
          "metadata": {}
        }
      ]
    },
    {
      "metadata": {
        "trusted": true
      },
      "cell_type": "code",
      "source": "os.path.normpath(\"/tmp//2/../1/temp.file\")  # нормализация пути",
      "execution_count": 9,
      "outputs": [
        {
          "output_type": "execute_result",
          "execution_count": 9,
          "data": {
            "text/plain": "'/tmp/1/temp.file'"
          },
          "metadata": {}
        }
      ]
    },
    {
      "metadata": {
        "trusted": true
      },
      "cell_type": "code",
      "source": "os.path.exists(\"/tmp/1/temp.file\")  # существует ли путь?",
      "execution_count": 10,
      "outputs": [
        {
          "output_type": "execute_result",
          "execution_count": 10,
          "data": {
            "text/plain": "False"
          },
          "metadata": {}
        }
      ]
    },
    {
      "metadata": {},
      "cell_type": "markdown",
      "source": "## Файлы\nPython по умолчанию достаточно просто работает с файлами операционной системы, в C-подобном стиле.\nПеред работой с файлом надо его открыть с помощью команды `open`.\n```python\nf = open('path/to/file', 'filemode', encoding='utf8')\n```\n\nРезультатом этой операции будет указатель на файл, в котором указатель текущей позиции поставлен на начало или конец файла."
    },
    {
      "metadata": {},
      "cell_type": "markdown",
      "source": "Давайте по порядку разберем все аргументы:\n- `path/to/file` путь к файлу может быть относительным или абсолютным.  \nМожно указывать в Unix-style (path/to/file) или в Windows-style (path\\\\to\\\\file)\n- `filemode` режим, в котором файл нужно открывать.  \nЗаписывается в виде строки, состоит из следующих букв:\n - **r** – открыть на чтение (по умолчанию)\n - **w** – перезаписать и открыть на запись (если файла нет, то он создастся)\n - **x** – создать и открыть на запись (если уже есть – исключение)\n - **a** – открыть на дозапись (указатель будет поставлен в конец)\n - **t** – открыть в текстовом виде (по умолчанию)\n - **b** – открыть в бинарном виде\n- `encoding` – указание, в какой кодировке файл записан (utf8, cp1251 и т.д.)\n\nПри открытии файла в режимах на запись ставится блокировка на уровне операционной системы"
    },
    {
      "metadata": {},
      "cell_type": "markdown",
      "source": "### Указатель на позицию\nПри открытии файла внутри него ставится указатель текущей позиции для чтения.  \nПри открытии в режиме чтения или записи указатель ставится на начало, в режиме **a** – в конец."
    },
    {
      "metadata": {
        "trusted": true
      },
      "cell_type": "code",
      "source": "f = open('test.txt', 'w', encoding='utf8')\n\n# указатель на текущую позицию\nf.tell()  # 0",
      "execution_count": 11,
      "outputs": [
        {
          "output_type": "execute_result",
          "execution_count": 11,
          "data": {
            "text/plain": "0"
          },
          "metadata": {}
        }
      ]
    },
    {
      "metadata": {
        "trusted": true
      },
      "cell_type": "code",
      "source": "# Запишем в файл строку\nf.write(\"This is a test string\\n\")",
      "execution_count": 13,
      "outputs": [
        {
          "output_type": "execute_result",
          "execution_count": 13,
          "data": {
            "text/plain": "22"
          },
          "metadata": {}
        }
      ]
    },
    {
      "metadata": {},
      "cell_type": "markdown",
      "source": "В качестве результата метод `write` возвращает количество записаных символов. Данные буферизуются, т.е. попасть на жесткий диск могут не сразу, если критично – после записи вызывайте `f.flush()` или закрывайте файл.  \n\nПроверим, куда теперь указывает указатель"
    },
    {
      "metadata": {
        "trusted": true
      },
      "cell_type": "code",
      "source": "f.tell()",
      "execution_count": 14,
      "outputs": [
        {
          "output_type": "execute_result",
          "execution_count": 14,
          "data": {
            "text/plain": "22"
          },
          "metadata": {}
        }
      ]
    },
    {
      "metadata": {
        "trusted": true
      },
      "cell_type": "code",
      "source": "print(f.write(\"This is a new string\\n\"))\nprint(f.tell())",
      "execution_count": 15,
      "outputs": [
        {
          "output_type": "stream",
          "text": "21\n43\n",
          "name": "stdout"
        }
      ]
    },
    {
      "metadata": {},
      "cell_type": "markdown",
      "source": "Каждая операция записи или чтения смещает указатель вправо на определенное количество символов. Попробуем проверить это для чтения. В режиме чтения можно открыть несколько параллельных сессий, т.е. одновременных доступов, в отличии от записи.  \n\nНо для начала нужно закрыть файл"
    },
    {
      "metadata": {
        "trusted": true
      },
      "cell_type": "code",
      "source": "# обязательно нужно закрыть файл иначе он будет заблокирован ОС\nf.close()",
      "execution_count": 16,
      "outputs": []
    },
    {
      "metadata": {
        "trusted": true
      },
      "cell_type": "code",
      "source": "f = open('test.txt', 'r', encoding='utf8')\nprint(f.tell())  # указываем на начало",
      "execution_count": 17,
      "outputs": [
        {
          "output_type": "stream",
          "text": "0\n",
          "name": "stdout"
        }
      ]
    },
    {
      "metadata": {},
      "cell_type": "markdown",
      "source": "`f.read(n)` – операция, читающая с текущего места **n** символов, если файл открыт в `t` режиме, или **n** байт, если файл открыт в `b` режиме, и возвращающая прочитанную информацию."
    },
    {
      "metadata": {
        "trusted": true
      },
      "cell_type": "code",
      "source": "print(f.read(10))\nprint(f.tell())",
      "execution_count": 18,
      "outputs": [
        {
          "output_type": "stream",
          "text": "This is a \n10\n",
          "name": "stdout"
        }
      ]
    },
    {
      "metadata": {},
      "cell_type": "markdown",
      "source": "После прочтения, указатель на содержимое остается на той позиции, где чтение закончилось."
    },
    {
      "metadata": {},
      "cell_type": "markdown",
      "source": "Если **n** не указать, будет прочитано «от забора до обеда», т.е. от текущего места указателя до конца файла."
    },
    {
      "metadata": {
        "trusted": true
      },
      "cell_type": "code",
      "source": "f.read()  # считали остаток файла",
      "execution_count": 19,
      "outputs": [
        {
          "output_type": "execute_result",
          "execution_count": 19,
          "data": {
            "text/plain": "'test string\\nThis is a new string\\n'"
          },
          "metadata": {}
        }
      ]
    },
    {
      "metadata": {
        "trusted": true
      },
      "cell_type": "code",
      "source": "f.tell()",
      "execution_count": 20,
      "outputs": [
        {
          "output_type": "execute_result",
          "execution_count": 20,
          "data": {
            "text/plain": "43"
          },
          "metadata": {}
        }
      ]
    },
    {
      "metadata": {},
      "cell_type": "markdown",
      "source": "Указатель можно перемещать вручную по файлу с помощью функции \n``` python\nf.seek(offset[, from_what=0])\n```\nАргумент `from_what`:\n- 0 – с начала файла\n- 1 – с того места, где мы сейчас (только для `b` режима)\n- 2 – с конца файла (только для `b` режима)"
    },
    {
      "metadata": {
        "trusted": true
      },
      "cell_type": "code",
      "source": "f.seek(1) # на второй символ с начала",
      "execution_count": 21,
      "outputs": [
        {
          "output_type": "execute_result",
          "execution_count": 21,
          "data": {
            "text/plain": "1"
          },
          "metadata": {}
        }
      ]
    },
    {
      "metadata": {
        "trusted": true
      },
      "cell_type": "code",
      "source": "f.tell()",
      "execution_count": 22,
      "outputs": [
        {
          "output_type": "execute_result",
          "execution_count": 22,
          "data": {
            "text/plain": "1"
          },
          "metadata": {}
        }
      ]
    },
    {
      "metadata": {
        "trusted": true
      },
      "cell_type": "code",
      "source": "f.seek(-2, 2)  # на второй символ с конца, только с b флагом",
      "execution_count": 23,
      "outputs": [
        {
          "output_type": "error",
          "ename": "UnsupportedOperation",
          "evalue": "can't do nonzero end-relative seeks",
          "traceback": [
            "\u001b[0;31m---------------------------------------------------------------------------\u001b[0m",
            "\u001b[0;31mUnsupportedOperation\u001b[0m                      Traceback (most recent call last)",
            "\u001b[0;32m<ipython-input-23-8cfb89711f9f>\u001b[0m in \u001b[0;36m<module>\u001b[0;34m\u001b[0m\n\u001b[0;32m----> 1\u001b[0;31m \u001b[0mf\u001b[0m\u001b[0;34m.\u001b[0m\u001b[0mseek\u001b[0m\u001b[0;34m(\u001b[0m\u001b[0;34m-\u001b[0m\u001b[0;36m2\u001b[0m\u001b[0;34m,\u001b[0m \u001b[0;36m2\u001b[0m\u001b[0;34m)\u001b[0m  \u001b[0;31m# на второй символ с конца, только с b флагом\u001b[0m\u001b[0;34m\u001b[0m\u001b[0m\n\u001b[0m",
            "\u001b[0;31mUnsupportedOperation\u001b[0m: can't do nonzero end-relative seeks"
          ]
        }
      ]
    },
    {
      "metadata": {
        "trusted": true
      },
      "cell_type": "code",
      "source": "# обязательно закрываем файл\nf.close()",
      "execution_count": 24,
      "outputs": []
    },
    {
      "metadata": {},
      "cell_type": "markdown",
      "source": "---\nБинарный формат"
    },
    {
      "metadata": {
        "trusted": true
      },
      "cell_type": "code",
      "source": "",
      "execution_count": null,
      "outputs": []
    },
    {
      "metadata": {},
      "cell_type": "markdown",
      "source": "---\n### Чтение и запись построчно\nЗачастую с файлами удобнее работать построчно, поэтому для этого есть отдельные методы"
    },
    {
      "metadata": {
        "trusted": true
      },
      "cell_type": "code",
      "source": "f = open('test.txt', 'a', encoding='utf8')  # открываем файл на дозапись\n\nsequence = [\"other string\\n\", \"123\\n\", \"test test\\n\"]\nf.writelines(sequence) # берет строки из sequence и записывает в файл (без переносов)\n\nf.close()",
      "execution_count": 25,
      "outputs": []
    },
    {
      "metadata": {},
      "cell_type": "markdown",
      "source": "Метод `f.writelines(sequence)` не будет сам за вас дозаписывать символ конца строки. Поэтому при необходимости его нужно записывать вручную.  \n\nПопробуем теперь построчно считать файл"
    },
    {
      "metadata": {
        "trusted": true
      },
      "cell_type": "code",
      "source": "f = open('test.txt', 'r', encoding='utf8')\n\nprint(f.readlines())  # считывает все строки в список и возвращает список\n\nf.close()",
      "execution_count": 26,
      "outputs": [
        {
          "output_type": "stream",
          "text": "['This is a test string\\n', 'This is a new string\\n', 'other string\\n', '123\\n', 'test test\\n']\n",
          "name": "stdout"
        }
      ]
    },
    {
      "metadata": {},
      "cell_type": "markdown",
      "source": "Метод `f.readline()` возвращает строку (символы от текущей позиции до символа переноса строки)"
    },
    {
      "metadata": {
        "trusted": true
      },
      "cell_type": "code",
      "source": "f = open('test.txt', 'r', encoding='utf8')\n\nprint(f.readline())\nprint(f.read(4))\nprint(f.readline())\n\nf.close()",
      "execution_count": 27,
      "outputs": [
        {
          "output_type": "stream",
          "text": "This is a test string\n\nThis\n is a new string\n\n",
          "name": "stdout"
        }
      ]
    },
    {
      "metadata": {},
      "cell_type": "markdown",
      "source": "Объект файл является **итератором**, поэтому его можно использовать в цикле `for`"
    },
    {
      "metadata": {
        "trusted": true
      },
      "cell_type": "code",
      "source": "f = open('test.txt') # можно перечислять строки в файле\nfor line in f:\n    print(line.strip())  # print(line, end='')\n    \nf.close()",
      "execution_count": 28,
      "outputs": [
        {
          "output_type": "stream",
          "text": "This is a test string\nThis is a new string\nother string\n123\ntest test\n",
          "name": "stdout"
        }
      ]
    },
    {
      "metadata": {
        "trusted": true
      },
      "cell_type": "code",
      "source": "f = open('test.txt', 'r', encoding='utf8')\nprint(f)",
      "execution_count": 30,
      "outputs": [
        {
          "output_type": "stream",
          "text": "<_io.TextIOWrapper name='test.txt' mode='r' encoding='utf8'>\n",
          "name": "stdout"
        }
      ]
    },
    {
      "metadata": {
        "trusted": true
      },
      "cell_type": "code",
      "source": "print(iter(f))  # берем итератор от итерируемого объекта",
      "execution_count": 31,
      "outputs": [
        {
          "output_type": "stream",
          "text": "<_io.TextIOWrapper name='test.txt' mode='r' encoding='utf8'>\n",
          "name": "stdout"
        }
      ]
    },
    {
      "metadata": {
        "trusted": true
      },
      "cell_type": "code",
      "source": "# указатель на файл сам является итератором\nid(f) == id(iter(f))",
      "execution_count": 32,
      "outputs": [
        {
          "output_type": "execute_result",
          "execution_count": 32,
          "data": {
            "text/plain": "True"
          },
          "metadata": {}
        }
      ]
    },
    {
      "metadata": {},
      "cell_type": "markdown",
      "source": "---\n### Менеджер контекста with\nПосле работы с файлом его нужно освободить с помощью метода `close()`\n\nХэндлер данного файла освобождается для операционной системы (если файл был открыт для записи) и другие приложения могут получать к нему доступ.\n\nЕсли не закрыть – будет висеть, пока не закроете Python или garbage collector не решит удалить его"
    },
    {
      "metadata": {},
      "cell_type": "markdown",
      "source": "Для явного указания места работы с файлом, а также чтобы не забывать закрыть файл после обработки, существует менеджер контекста `with`.  "
    },
    {
      "metadata": {
        "trusted": true
      },
      "cell_type": "code",
      "source": "# В блоке менеджера контекста открытый файл «жив» и с ним можно работать, при выходе из блока – файл закрывается.\nwith open(\"test.txt\", 'rb') as f:\n    a = f.read(10)\n    b = f.read(23)\n\nf.read(3)  # Error!",
      "execution_count": 35,
      "outputs": [
        {
          "output_type": "error",
          "ename": "ValueError",
          "evalue": "read of closed file",
          "traceback": [
            "\u001b[0;31m---------------------------------------------------------------------------\u001b[0m",
            "\u001b[0;31mValueError\u001b[0m                                Traceback (most recent call last)",
            "\u001b[0;32m<ipython-input-35-fcc06b2563e2>\u001b[0m in \u001b[0;36m<module>\u001b[0;34m\u001b[0m\n\u001b[1;32m      4\u001b[0m     \u001b[0mb\u001b[0m \u001b[0;34m=\u001b[0m \u001b[0mf\u001b[0m\u001b[0;34m.\u001b[0m\u001b[0mread\u001b[0m\u001b[0;34m(\u001b[0m\u001b[0;36m23\u001b[0m\u001b[0;34m)\u001b[0m\u001b[0;34m\u001b[0m\u001b[0m\n\u001b[1;32m      5\u001b[0m \u001b[0;34m\u001b[0m\u001b[0m\n\u001b[0;32m----> 6\u001b[0;31m \u001b[0mf\u001b[0m\u001b[0;34m.\u001b[0m\u001b[0mread\u001b[0m\u001b[0;34m(\u001b[0m\u001b[0;36m3\u001b[0m\u001b[0;34m)\u001b[0m  \u001b[0;31m# Error!\u001b[0m\u001b[0;34m\u001b[0m\u001b[0m\n\u001b[0m",
            "\u001b[0;31mValueError\u001b[0m: read of closed file"
          ]
        }
      ]
    },
    {
      "metadata": {
        "trusted": true
      },
      "cell_type": "code",
      "source": "f.name",
      "execution_count": null,
      "outputs": []
    },
    {
      "metadata": {},
      "cell_type": "markdown",
      "source": "Менеджер контекста неявно вызывает закрытие файла после работы. Что освобождает вас от забот о том, закрыли ли вы файл или нет.  \nЗакрытие файла происходит при любом стечении обстоятельств, даже если внутри `with` будет ошибка"
    },
    {
      "metadata": {},
      "cell_type": "markdown",
      "source": "## Сериализация"
    },
    {
      "metadata": {},
      "cell_type": "markdown",
      "source": "**Сериализация** – процесс перевода какой-либо структуры данных в другой формат, более удобный для хранения и/или передачи.  \n\nОсновная задача сериализации – эффективно (т.е. обычно с наименьшим размером) сохранить или передать данные, при условии, что их можно десериализовать в исходные.  \n\nЧаще всего это работа на низком уровне с байтами и различными структурами. Но не обязательно.\n"
    },
    {
      "metadata": {},
      "cell_type": "markdown",
      "source": "### JSON \n**JSON** – JavaScript Object Notation – текстовый формат обмена данными.\nЛегко читаем людьми, однозначно записывает данные, подходит для сериализации сложных структур. Много используется в вебе."
    },
    {
      "metadata": {},
      "cell_type": "markdown",
      "source": "Пример JSON:\n```JavaScript\n{\n    \"firstName\": \"Иван\",\n    \"lastName\": \"Иванов\",\n    \"address\": {\n        \"streetAddress\": \"Московское ш., 101, кв.101\",\n        \"city\": \"Ленинград\",\n        \"postalCode\": \"101101“\n    },\n    \"phoneNumbers\": [\"812 123-1234\", \"916 123-4567“]\n}\n```"
    },
    {
      "metadata": {},
      "cell_type": "markdown",
      "source": "**Преимущества**:\n- Человекочитаем – легко проверять данные и находить ошибки в реализации\n- Текстовый формат, нативно поддерживается в http\n- Лаконичен\n- Широко распространен\n\n**Недостатки**:\n- Поддерживает ограниченное число типов данных (числа, строки, Boolean, None, list, dict)\n- Нельзя задать рекурсивные структуры"
    },
    {
      "metadata": {},
      "cell_type": "markdown",
      "source": "---\nJSON – тоже формат сериализации, при этом в вебе сплошь и рядом используемый.  \nДля работы с ним используется модуль `json`."
    },
    {
      "metadata": {
        "trusted": true
      },
      "cell_type": "code",
      "source": "# импортируем модуль JSON\nimport json",
      "execution_count": 36,
      "outputs": []
    },
    {
      "metadata": {},
      "cell_type": "markdown",
      "source": "Основные методы:\n- `json.dumps(obj)` – преобразует объект в строку формата JSON\n- `json.loads(str)` – преобразует строку формата JSON в объект языка Python (выдает `ValueError`, если строка неверная)\n\n"
    },
    {
      "metadata": {},
      "cell_type": "markdown",
      "source": "#### Кодирование\nПроцесс, при котором берется python объект, а на выходе получается строка формата json"
    },
    {
      "metadata": {
        "trusted": true
      },
      "cell_type": "code",
      "source": "# Закодируем Python объект в json строку\njson.dumps([1, 2, 3, {'4': 5, '6': 7}])",
      "execution_count": 37,
      "outputs": [
        {
          "output_type": "execute_result",
          "execution_count": 37,
          "data": {
            "text/plain": "'[1, 2, 3, {\"4\": 5, \"6\": 7}]'"
          },
          "metadata": {}
        }
      ]
    },
    {
      "metadata": {
        "trusted": true
      },
      "cell_type": "code",
      "source": "# Закодируем Python объект в json строку компактным способом\njson.dumps([1, 2, 3, {'4': 5, '6': 7}], separators=(',', ':'))",
      "execution_count": 38,
      "outputs": [
        {
          "output_type": "execute_result",
          "execution_count": 38,
          "data": {
            "text/plain": "'[1,2,3,{\"4\":5,\"6\":7}]'"
          },
          "metadata": {}
        }
      ]
    },
    {
      "metadata": {
        "trusted": true
      },
      "cell_type": "code",
      "source": "# вывод в читабельном формате\nprint(json.dumps([1, 2, 3, {'4': 5, '6': 7}], indent=4))",
      "execution_count": 39,
      "outputs": [
        {
          "output_type": "stream",
          "text": "[\n    1,\n    2,\n    3,\n    {\n        \"4\": 5,\n        \"6\": 7\n    }\n]\n",
          "name": "stdout"
        }
      ]
    },
    {
      "metadata": {
        "trusted": true
      },
      "cell_type": "code",
      "source": "print(json.dumps([1, 2, 3, {'4': 5, '6': 7}], indent=10))",
      "execution_count": 41,
      "outputs": [
        {
          "output_type": "stream",
          "text": "[\n          1,\n          2,\n          3,\n          {\n                    \"4\": 5,\n                    \"6\": 7\n          }\n]\n",
          "name": "stdout"
        }
      ]
    },
    {
      "metadata": {
        "trusted": true
      },
      "cell_type": "code",
      "source": "# json не поддерживает `tuple`\nprint(json.dumps([(1, 2, 3), [4, 5, 6]], indent='\\t'))\n{\n    'json': [\n                [\n                    1,\n                    2,\n                    3\n                ],\n                [\n                    4,\n                    5,\n                    6\n                ]\n            ]\n}",
      "execution_count": 43,
      "outputs": [
        {
          "output_type": "stream",
          "text": "[\n\t[\n\t\t1,\n\t\t2,\n\t\t3\n\t],\n\t[\n\t\t4,\n\t\t5,\n\t\t6\n\t]\n]\n",
          "name": "stdout"
        },
        {
          "output_type": "execute_result",
          "execution_count": 43,
          "data": {
            "text/plain": "{'json': [[1, 2, 3], [4, 5, 6]]}"
          },
          "metadata": {}
        }
      ]
    },
    {
      "metadata": {},
      "cell_type": "markdown",
      "source": "#### Декодирование\nПроцесс обратный кодированию, при котором берется строка json формата, а на выходе получается объект python.  \n\nИмейте ввиду результат декодирования не всегда эквивалентен исходному объекту"
    },
    {
      "metadata": {
        "trusted": true
      },
      "cell_type": "code",
      "source": "def check_code_decode_json(src):\n    json_str = json.dumps(src)\n    python_obj = json.loads(json_str)\n\n    print('src:', src)\n    print('json:', json_str)\n    print('result', python_obj)\n    \n    return src == python_obj",
      "execution_count": 53,
      "outputs": []
    },
    {
      "metadata": {
        "trusted": true
      },
      "cell_type": "code",
      "source": "src = [1, 2, 3, {\"4\": 5, '6': 7}]\ncheck_code_decode_json(src)",
      "execution_count": 46,
      "outputs": [
        {
          "output_type": "stream",
          "text": "src: [1, 2, 3, {'4': 5, '6': 7}]\njson: [1, 2, 3, {\"4\": 5, \"6\": 7}]\nresult [1, 2, 3, {'4': 5, '6': 7}]\n",
          "name": "stdout"
        },
        {
          "output_type": "execute_result",
          "execution_count": 46,
          "data": {
            "text/plain": "True"
          },
          "metadata": {}
        }
      ]
    },
    {
      "metadata": {
        "trusted": true
      },
      "cell_type": "code",
      "source": "# использование tuple\nsrc = [(1, 2, 3)]\ncheck_code_decode_json(src)",
      "execution_count": 47,
      "outputs": [
        {
          "output_type": "stream",
          "text": "src: [(1, 2, 3)]\njson: [[1, 2, 3]]\nresult [[1, 2, 3]]\n",
          "name": "stdout"
        },
        {
          "output_type": "execute_result",
          "execution_count": 47,
          "data": {
            "text/plain": "False"
          },
          "metadata": {}
        }
      ]
    },
    {
      "metadata": {
        "trusted": true
      },
      "cell_type": "code",
      "source": "# в json ключи приводятся к строке, а в неявном виде не декодируется назад\nsrc = [{4: 5, 6: 7}]\ncheck_code_decode_json(src)",
      "execution_count": 55,
      "outputs": [
        {
          "output_type": "stream",
          "text": "src: [{4: 5, '4': 7}]\njson: [{\"4\": 5, \"4\": 7}]\nresult [{'4': 7}]\n",
          "name": "stdout"
        },
        {
          "output_type": "execute_result",
          "execution_count": 55,
          "data": {
            "text/plain": "False"
          },
          "metadata": {}
        }
      ]
    },
    {
      "metadata": {
        "trusted": true
      },
      "cell_type": "code",
      "source": "# в json ключи приводятся к строке, а в неявном виде не декодируется назад\nsrc = [{4: 5, \"4\": 7}]\ncheck_code_decode_json(src)",
      "execution_count": 56,
      "outputs": [
        {
          "output_type": "stream",
          "text": "src: [{4: 5, '4': 7}]\njson: [{\"4\": 5, \"4\": 7}]\nresult [{'4': 7}]\n",
          "name": "stdout"
        },
        {
          "output_type": "execute_result",
          "execution_count": 56,
          "data": {
            "text/plain": "False"
          },
          "metadata": {}
        }
      ]
    },
    {
      "metadata": {},
      "cell_type": "markdown",
      "source": "Не путайте `dumps` с `dump`, а `loads` с `load`!  \nПоследние функции предназначены для работы с каким-либо источником (файлом, потоком данных и т.д.)"
    },
    {
      "metadata": {},
      "cell_type": "markdown",
      "source": "---\n### Pickle\nСериализация в JSON полезна в мире веба, если вам нужно что-то сохранить на диск – используется бинарная сериализация.\n\nСамый популярный модуль для бинарной сериализации – `Pickle`.\n\nСохраняет объекты в бинарный формат, который потом можно восстановить при другом запуске или на другом устройстве.\n\nВследствие развития получилось, что у `pickle` есть несколько протоколов. Сохранять и загружать нужно с одним и тем же, по умолчанию в Python3 протокол – 3."
    },
    {
      "metadata": {},
      "cell_type": "markdown",
      "source": "Внутри модуля реализовано всего несколько методов:\n- `pickle.dump(obj, file)` – сохраняет объект **obj** в файл **file**\n- `pickle.dumps(obj)` – сериализует объект и возвращает набор байт (для передачи по сети, например)\n- `pickle.load(file)` – читает файл и восстанавливает объект из файла\n- `pickle.loads(bytes_object)` – читает последовательность байт и восстанавливает по ним объект\n"
    },
    {
      "metadata": {},
      "cell_type": "markdown",
      "source": "Что можно «запиклить»?\n- None, True, False\n- целые, дробные и комплексные числа\n- строки, байты, байт-массивы\n- кортежи, списки, множества и словари, содержащие только \"picklable\" объекты\n- функции, определенные на верхнем уровне модуля (только используя `def`, не лямбда функции)\n- встроенные функции языка Python, определенные на верхнем уровне модуля\n- классы, определенные на верхнем уровеня модуля\n- экземпляры таких классов, чей результат `__dict__` или `__getstate__()` – \"picklable\"\n"
    },
    {
      "metadata": {},
      "cell_type": "markdown",
      "source": "### Pickle vs JSON\nJSON – формат текстовой сериализации (чаще всего utf-8), а `pickle` – формат бинарной сериализации\n\nJSON человекочитаем, а `pickle` – нет\n\nJSON не привязан к языку и часто используется вне экосистемы языка Python, в то время как `pickle` специфичен для языка Python\n\nJSON (по умолчанию) может сериализовывать только часть встроенных типов языка Python и не может сериализовывать собственноручно написанные классы, `pickle` может сериализовывать множество различных типов объектов"
    },
    {
      "metadata": {},
      "cell_type": "markdown",
      "source": "Если вы хотите сохранять данные, которые потом будут обрабатывать на python – берите `pickle`. Есть сомнения, чем данные будут читать – берите другой тип сериализации (в байты и с помощью `struct`, например). \nПередача данных в вебе – JSON или XML (даже если на другой стороне тоже python и pickle доступен)."
    },
    {
      "metadata": {},
      "cell_type": "markdown",
      "source": "### Не только Pickle\nВ языке Python существуют и другие способы сериализации:\n\nЕсли объект можно перевести в байт-массив – можно с помощью `struct` перевести и сохранить в файл (преимущества – можно распарсить на другом языке)\n\nЕсли объект – `NumPy` массив, можно использовать `np.save`, `np.savetxt`, `np.savez`, `np.savez_compressed`\n\nДля хранения больших файлов (астрономические данные, веса больших нейронных сетей и т.д.) используется формат `HDF5`. Работа с такими файлами в Python осуществляется с помощью библиотеки `h5py` и методов `create_dataset`, `File` и т.д.\n\nМногие модули имеют собственные методы для сериализации данных (часто в основе – pickle или struct)"
    }
  ],
  "metadata": {
    "kernelspec": {
      "name": "python36",
      "display_name": "Python 3.6",
      "language": "python"
    },
    "language_info": {
      "mimetype": "text/x-python",
      "nbconvert_exporter": "python",
      "name": "python",
      "pygments_lexer": "ipython3",
      "version": "3.6.6",
      "file_extension": ".py",
      "codemirror_mode": {
        "version": 3,
        "name": "ipython"
      }
    }
  },
  "nbformat": 4,
  "nbformat_minor": 1
}