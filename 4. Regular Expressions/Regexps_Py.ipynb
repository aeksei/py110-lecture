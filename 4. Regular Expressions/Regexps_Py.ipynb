{
  "cells": [
    {
      "metadata": {},
      "cell_type": "markdown",
      "source": "# Регулярные выражения в Python\nДля регулярных выражений в языке Python используется модуль re"
    },
    {
      "metadata": {
        "trusted": false
      },
      "cell_type": "code",
      "source": "import re",
      "execution_count": null,
      "outputs": []
    },
    {
      "metadata": {},
      "cell_type": "markdown",
      "source": "Вкратце вспоминаем лекцию.  \nfullmatch - возвращает match объект только если **вся** строка соответствует выражению."
    },
    {
      "metadata": {
        "trusted": false
      },
      "cell_type": "code",
      "source": "a = re.fullmatch(r'\\d\\d\\d', '333')\nb = re.fullmatch(r'\\d\\d\\d', '3333')  # частично соответствует, но надо то полностью\nprint(True if a else False)\nprint(True if b else False)",
      "execution_count": null,
      "outputs": []
    },
    {
      "metadata": {},
      "cell_type": "markdown",
      "source": "match - проверяет, что начало строки соответствует выражению"
    },
    {
      "metadata": {
        "trusted": false
      },
      "cell_type": "code",
      "source": "a = re.match(r'\\d\\d\\d', '333')\nb = re.match(r'\\d\\d\\d', '3333')\nprint(True if a else False)\nprint(True if b else False)",
      "execution_count": null,
      "outputs": []
    },
    {
      "metadata": {},
      "cell_type": "markdown",
      "source": "search - возвращает объект, если есть вхождение выражения в строку (не обязательно в начале, в т.ч. возвращает индекс)"
    },
    {
      "metadata": {
        "trusted": false
      },
      "cell_type": "code",
      "source": "a = re.search(r'\\d', \"Это просто 3-х буквенная строка\")  # ищем цифру\nprint(f\"Найденный объект: {a}\")\nprint(f\"Число: {a[0]}\")\nprint(f\"Позиция в тексте: {a.start()}\")",
      "execution_count": null,
      "outputs": []
    },
    {
      "metadata": {},
      "cell_type": "markdown",
      "source": "findall - находит все вхождения выражения в строку"
    },
    {
      "metadata": {
        "trusted": false
      },
      "cell_type": "code",
      "source": "a = re.findall(r'\\d', \"Это просто 3-х буквенная 4-строка\")  # ищем цифры\nprint(f\"Найденные объекты: {a}\")  # заметьте, это просто список, не объект match",
      "execution_count": null,
      "outputs": []
    },
    {
      "metadata": {},
      "cell_type": "markdown",
      "source": "split - разбивает список по выражению"
    },
    {
      "metadata": {
        "trusted": false
      },
      "cell_type": "code",
      "source": "a = re.split(\"[,.!]\", \"Вы, конечно, что-то решили, но я, право, так не думаю! Вот.\")\nprint(a)",
      "execution_count": null,
      "outputs": []
    },
    {
      "metadata": {},
      "cell_type": "markdown",
      "source": "sub - функция, которая заменяет все вхождения шаблона на константную строку (или функцию!)"
    },
    {
      "metadata": {
        "trusted": false
      },
      "cell_type": "code",
      "source": "a = re.sub(r\"\\d\\d\", lambda x: str(int(x[0]) + 1), \"Товар стоит 35 рублей!\")\nprint(a)  # повышаем цены!",
      "execution_count": null,
      "outputs": []
    },
    {
      "metadata": {},
      "cell_type": "markdown",
      "source": "Просто прелестно. Ваша самостоятельная задача - прочитать про re.compile и понять, как его можно использовать.  \nА затем скомпилируйте выражение, которое позволит выделить две именные группы, захватывающие дату и время доступа"
    },
    {
      "metadata": {
        "trusted": true
      },
      "cell_type": "code",
      "source": "log_dump = \"\"\"\n66.249.73.185 - - [17/May/2015:11:15:58 +0000] \"GET /presentations/logstash-1/ HTTP/1.1\" 304 - \"-\" \"Mozilla/5.0 (compatible; Googlebot/2.1; +http://www.google.com/bot.html)\"\n74.125.176.81 - - [17/May/2015:12:23:28 +0000] \"GET /?flav=rss20 HTTP/1.1\" 200 29941 \"-\" \"FeedBurner/1.0 (http://www.FeedBurner.com)\"\n66.249.73.135 - - [17/May/2015:15:31:14 +0000] \"GET /blog/geekery/xdotool-2.20110530.html HTTP/1.1\" 200 11936 \"-\" \"Mozilla/5.0 (iPhone; CPU iPhone OS 6_0 like Mac OS X) AppleWebKit/536.26 (KHTML, like Gecko) Version/6.0 Mobile/10A5376e Safari/8536.25 (compatible; Googlebot/2.1; +http://www.google.com/bot.html)\"\n187.45.193.158 - - [17/May/2015:18:47:54 +0000] \"GET /presentations/logstash-1/file/about-me/tequila-face.jpg HTTP/1.1\" 200 196054 \"-\" \"Mozilla/4.0 (compatible; MSIE 6.0; Windows NT 5.2; SV1; .NET CLR 2.0.50727; InfoPath.1)\"\n90.220.199.149 - - [17/May/2015:21:55:18 +0000] \"GET /blog/geekery/puppet-manage-homedirectory-contents.html HTTP/1.1\" 200 10001 \"https://www.google.co.uk/\" \"Mozilla/5.0 (Macintosh; Intel Mac OS X 10_9_1) AppleWebKit/537.36 (KHTML, like Gecko) Chrome/32.0.1700.107 Safari/537.36\"\n\"\"\"",
      "execution_count": 1,
      "outputs": []
    }
  ],
  "metadata": {
    "kernelspec": {
      "name": "python3",
      "display_name": "Python 3",
      "language": "python"
    },
    "language_info": {
      "mimetype": "text/x-python",
      "nbconvert_exporter": "python",
      "name": "python",
      "pygments_lexer": "ipython3",
      "version": "3.5.4",
      "file_extension": ".py",
      "codemirror_mode": {
        "version": 3,
        "name": "ipython"
      }
    }
  },
  "nbformat": 4,
  "nbformat_minor": 2
}