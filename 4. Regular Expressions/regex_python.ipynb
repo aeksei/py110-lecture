{
  "cells": [
    {
      "metadata": {
        "collapsed": true
      },
      "cell_type": "markdown",
      "source": "# Регулярные выражения в Python\n\nДля работы с регулярными выражениями в языке Python определен модуль `re`, который входит в стандартный пакет модулей.\n\nДля работы с ним его нужно импортировать:"
    },
    {
      "metadata": {
        "trusted": true
      },
      "cell_type": "code",
      "source": "import re",
      "execution_count": 1,
      "outputs": []
    },
    {
      "metadata": {},
      "cell_type": "markdown",
      "source": "##  Raw strings\nДля экранирования символов в регулярных выражениях используется обратный слеш `\\`  \nДля экранирования символов в языке Python тоже используется символ `\\`  \nНе чувствуете проблемы?"
    },
    {
      "metadata": {},
      "cell_type": "markdown",
      "source": "Давайте попробуем написать шаблон регулярного выражения для поиска следующей строки: `\\stop`\n\n`\\s` на языке регулярных выражений – это токен, следовательно, его надо экранировать: `\\\\stop`.  \n\nТеперь записываем это в строку в Python. Каждый `\\` будет пытаться экранировать следующий символ, следовательно, его самого тоже нужно экранировать.\nПолучаем \n```python\npattern = '\\\\\\\\stop'  # паттерн для поиска\n```  \n\nОтвратительно, не правда ли?"
    },
    {
      "metadata": {},
      "cell_type": "markdown",
      "source": "Для решения этой проблемы в Python введен флаг `r`, который указывается перед открывающей кавычкой и говорит, что следующая за ним строка – литеральная, т.е. символ `\\` ничего не экранирует и является просто символом.\n\nТаким образом наша запись должна выглядеть следующим образом: \n```python\npattern = r'\\\\stop'\n```"
    },
    {
      "metadata": {},
      "cell_type": "markdown",
      "source": "## Методы модуля `re`\nКаждый метод модуля возвращает объект `match`, в котором:\n- при приведении к Boolean возвращается `True`, если есть хоть одно совпадение и `False`, если нет. \n```python\nprint(bool(match))\n```\n- можно обращаться по индексу, если в шаблоне были неименованные группы\n```python\nprint(match[0], match[1])\n```\n- можно обращаться по ключевым словам, если в шаблоне были именованные группы\n```python\nprint(match['domain_name'])\n```\n\n---\nТакже у объекта `match` доступны следующие методы\n- `group()` - возвращает совпадение по шаблону\n- `start()` - возвращает начальную позицию совпадения по шаблону\n- `end()` - возвращает конечную позицию совпадения по шаблону\n- `span()` - возвращает кортеж содержащий начальное и конечное положение"
    },
    {
      "metadata": {},
      "cell_type": "markdown",
      "source": "---\n### match\nМетод `re.match(pattern, string)` принимает два позиционых аргумента - шаблон для поиска и строку. \n\nПроверяет, подходит ли начало строки под определенный шаблон.  \nЕсли да – возвращается объект `match` (не путать с методом `re.match`!!), иначе `None`."
    },
    {
      "metadata": {
        "trusted": true
      },
      "cell_type": "code",
      "source": "string = \"My test string\"\npattern = r'My'\n\nprint(re.match(pattern, string))  # объект match\nprint(re.match(pattern, string)[0])  # 'My' - результат поиска по нулевому индексу",
      "execution_count": 2,
      "outputs": [
        {
          "output_type": "stream",
          "text": "<_sre.SRE_Match object; span=(0, 2), match='My'>\nMy\n",
          "name": "stdout"
        }
      ]
    },
    {
      "metadata": {
        "trusted": true
      },
      "cell_type": "code",
      "source": "result = re.match(pattern, string)\nif result is not None:\n    print(result[0])\n    print(result.group())\n    ",
      "execution_count": 3,
      "outputs": [
        {
          "output_type": "stream",
          "text": "My\nMy\n",
          "name": "stdout"
        }
      ]
    },
    {
      "metadata": {
        "trusted": true
      },
      "cell_type": "code",
      "source": "string = \"My test string\"\npattern = r'test'\n\nprint(re.match(pattern, string))  # None, так как строка не начинается со слова test",
      "execution_count": 4,
      "outputs": [
        {
          "output_type": "stream",
          "text": "None\n",
          "name": "stdout"
        }
      ]
    },
    {
      "metadata": {},
      "cell_type": "markdown",
      "source": "---\n### fullmatch\nМетод `re.fullmatch(pattern, string)` принимает два позиционых аргумента - шаблон для поиска и строку. \n\nПроверяет, подходит ли вся строка под шаблон.  \nЕсли да – возвращается объект `match`, иначе `None`."
    },
    {
      "metadata": {
        "trusted": true
      },
      "cell_type": "code",
      "source": "string = \"My test string\"\npattern = r'(\\w+\\s*)+'\n\nprint(re.fullmatch(pattern, string))  # полное совпадение строки",
      "execution_count": 5,
      "outputs": [
        {
          "output_type": "stream",
          "text": "<_sre.SRE_Match object; span=(0, 14), match='My test string'>\n",
          "name": "stdout"
        }
      ]
    },
    {
      "metadata": {
        "trusted": true
      },
      "cell_type": "code",
      "source": "string = \"My test string!!!\"\npattern = r'(\\w+\\s*)+'\n\nprint(re.fullmatch(pattern, string))  # Нет полного совпадения, поэтому None",
      "execution_count": 6,
      "outputs": [
        {
          "output_type": "stream",
          "text": "None\n",
          "name": "stdout"
        }
      ]
    },
    {
      "metadata": {
        "trusted": true
      },
      "cell_type": "code",
      "source": "string = \"\"\"My test string\nSecond string\n\"\"\"\npattern = r'(\\w+\\s*)+'\n\nprint(re.fullmatch(pattern, string))  # полное совпадение строки",
      "execution_count": 7,
      "outputs": [
        {
          "output_type": "stream",
          "text": "<_sre.SRE_Match object; span=(0, 29), match='My test string\\nSecond string\\n'>\n",
          "name": "stdout"
        }
      ]
    },
    {
      "metadata": {},
      "cell_type": "markdown",
      "source": "---\n### search\nМетод `re.search(pattern, string)` принимает два позиционых аргумента - шаблон для поиска и строку, в которой нужно производить поиск. \n\nМетод `search` находит **первое** вхождение шаблона в строку.   \nЕсли найдено – возвращается объект `match`, иначе `None`."
    },
    {
      "metadata": {
        "trusted": true
      },
      "cell_type": "code",
      "source": "string = \"My test string. test\"\npattern = r'test'\n\nmatch = re.search(pattern, string)\nprint(match)  # находит только первое вхождение\nprint(match[0])  # test",
      "execution_count": 8,
      "outputs": [
        {
          "output_type": "stream",
          "text": "<_sre.SRE_Match object; span=(3, 7), match='test'>\ntest\n",
          "name": "stdout"
        }
      ]
    },
    {
      "metadata": {
        "trusted": true
      },
      "cell_type": "code",
      "source": "print(match.span())  # (3, 7)\nprint(string[match.start():match.end()])  # test",
      "execution_count": 9,
      "outputs": [
        {
          "output_type": "stream",
          "text": "(3, 7)\ntest\n",
          "name": "stdout"
        }
      ]
    },
    {
      "metadata": {},
      "cell_type": "markdown",
      "source": "---\n### findall\nМетод `re.findall(pattern, string)` принимает два позиционых аргумента - шаблон для поиска и строку, в которой нужно производить поиск. \n\nМетод `findall` находит **все** вхождения шаблона в строку и возвращает список всех совпадений, иначе пустой список."
    },
    {
      "metadata": {
        "trusted": true
      },
      "cell_type": "code",
      "source": "string = \"My test 123 string. And 456, 789. Not found test_123\"\npattern = r'\\b\\d{3}\\b'  # трехзначные трехзначные числа\n\nprint(re.findall(pattern, string))  # ['123', '456', '789']\nprint(re.findall(r'\\b\\d{4}\\b', string))  # []",
      "execution_count": 10,
      "outputs": [
        {
          "output_type": "stream",
          "text": "['123', '456', '789']\n[]\n",
          "name": "stdout"
        }
      ]
    },
    {
      "metadata": {
        "trusted": true
      },
      "cell_type": "code",
      "source": "result = re.findall(pattern, string)\nfor r in result:\n    print(r)",
      "execution_count": 11,
      "outputs": [
        {
          "output_type": "stream",
          "text": "123\n456\n789\n",
          "name": "stdout"
        }
      ]
    },
    {
      "metadata": {},
      "cell_type": "markdown",
      "source": "---\n### finditer \nМетод `re.finditer` аналогичен `re.findall` только возвращает итератор. \n\nИтератор позволяет получить больше информации обо всех совпадениях шаблона, поскольку он предоставляет объекты совпадений вместо строк."
    },
    {
      "metadata": {
        "trusted": true
      },
      "cell_type": "code",
      "source": "string = \"My test 123 string. And 456, 789. Not found test_123\"\nfor item in re.finditer(r'\\b\\d{3}\\b', string):\n    print(f\"position: {item.start():02d}-{item.end():02d} | {item.group()}\")",
      "execution_count": 12,
      "outputs": [
        {
          "output_type": "stream",
          "text": "position: 08-11 | 123\nposition: 24-27 | 456\nposition: 29-32 | 789\n",
          "name": "stdout"
        }
      ]
    },
    {
      "metadata": {},
      "cell_type": "markdown",
      "source": "---\n### split\nМетод `re.split` аналогичен методу `split` строки `\"some string\".split()`, но производит разбиение по шаблону, а не по строке-разделителю."
    },
    {
      "metadata": {
        "trusted": true
      },
      "cell_type": "code",
      "source": "string = \"Разбить строку, содержащую несколько предложений, на слова. Разбивать по-любому не буквенному разделителю\"\nprint(re.split(r\"\\W+\", string))  # список слов",
      "execution_count": 13,
      "outputs": [
        {
          "output_type": "stream",
          "text": "['Разбить', 'строку', 'содержащую', 'несколько', 'предложений', 'на', 'слова', 'Разбивать', 'по', 'любому', 'не', 'буквенному', 'разделителю']\n",
          "name": "stdout"
        }
      ]
    },
    {
      "metadata": {},
      "cell_type": "markdown",
      "source": "---\n### sub\nМетод `re.sub(pattern, repl, string)` заменяющий все непересекающиеся шаблоны в тексте на константную строку.  \n\nПринимает три аргумента: паттерн для поиска, константную строку, на которую будет производиться замена, строка, в которой будет поиск. "
    },
    {
      "metadata": {
        "trusted": true
      },
      "cell_type": "code",
      "source": "a = re.sub(r'\\d\\d', '00', 'Это стоит 35 рублей 48 копеек')\nprint(a)  # Это стоит 00 рублей 00 копеек",
      "execution_count": 14,
      "outputs": [
        {
          "output_type": "stream",
          "text": "Это стоит 00 рублей 00 копеек\n",
          "name": "stdout"
        }
      ]
    },
    {
      "metadata": {},
      "cell_type": "markdown",
      "source": "В языке python вместо строки для замены можно передать функцию, принимающую один аргумент-строку и возвращающую строку."
    },
    {
      "metadata": {
        "trusted": true
      },
      "cell_type": "code",
      "source": "a = re.sub(r'\\d\\d', lambda x: x[0] + \".00\", 'Это стоит 35 рублей 48 копеек')\na = re.sub(r'\\d\\d', lambda x: x.group() + \".00\", 'Это стоит 35 рублей 48 копеек')\n\nprint(a)  # Это стоит 35.00 рублей 48.00 копеек",
      "execution_count": 15,
      "outputs": [
        {
          "output_type": "stream",
          "text": "Это стоит 35.00 рублей 48.00 копеек\n",
          "name": "stdout"
        }
      ]
    },
    {
      "metadata": {},
      "cell_type": "markdown",
      "source": "---\n### compile\n`re.compile` – особый метод, которая принимает на вход шаблон регулярного выражения и возвращает объект, соответствующий данному выражению.  \n\nДалее этот объект можно использовать вместо шаблона, вызывая соответствующие методы от него и не указывая шаблон.\n- `match` - Проверяет **начало строки** на соответствие шаблону\n- `fullmatch` - Проверяет **всю строку** на соответствие шаблону\n- `search` - Ищет **первое** вхождение шаблона\n- `findall` - Ищет все вхождения и возвращет **список строк**\n- `finditer` - Ищет все вхождения и возвращет **итератор**, содержащий расширенную информацию о совпадениях\n- `split` - Разделяет строку, используя шаблон как разделитель\n- `sub` - Заменяет все вхождения шаблона на строку\n\nУскоряет работу при частом использовани одного и того же шаблона\n\nДля скомпилированных выражений доступны следующие флаги, которые позволяют добавить различное поведение поведение:\n- `re.DOTALL`, `re.S` - Сделать соответствие `.` любому символу, включая переводы строки `\\n`.\n- `re.IGNORECASE`, `re.I` Делает совпадения нечувствительными к регистру.\n- `re.MULTILINE`, `re.M` Многострочное сопоставление, \"якоря\" начала строки `^` и конца строки `$` применяются для каждой новой строки, а не к всему тексту.\n- `re.VERBOSE`, `re.X` Позволяет включать комментарии при составлении шаблона делая их более понятными."
    },
    {
      "metadata": {},
      "cell_type": "markdown",
      "source": "---\nПопробуйте угадать, что будет выведено в следующих ячейках"
    },
    {
      "metadata": {
        "trusted": true
      },
      "cell_type": "code",
      "source": "p = re.compile(r'(?P<word>\\b\\w+\\b)')  # паттерн для поиска слова\n\nm = p.search( '(((( Lots of punctuation )))' )  # ???\nprint(m.group('word'))",
      "execution_count": 16,
      "outputs": [
        {
          "output_type": "stream",
          "text": "Lots\n",
          "name": "stdout"
        }
      ]
    },
    {
      "metadata": {
        "trusted": true
      },
      "cell_type": "code",
      "source": "m = p.match( '(((( Lots of punctuation )))' )  # ???\nprint(m)",
      "execution_count": 17,
      "outputs": [
        {
          "output_type": "stream",
          "text": "None\n",
          "name": "stdout"
        }
      ]
    },
    {
      "metadata": {
        "trusted": true
      },
      "cell_type": "code",
      "source": "m = p.findall( '(((( Lots of punctuation )))' )  # ???\nprint(m)",
      "execution_count": 18,
      "outputs": [
        {
          "output_type": "stream",
          "text": "['Lots', 'of', 'punctuation']\n",
          "name": "stdout"
        }
      ]
    },
    {
      "metadata": {},
      "cell_type": "markdown",
      "source": "---\n## Квантификаторы"
    },
    {
      "metadata": {
        "trusted": true
      },
      "cell_type": "code",
      "source": "# квантификаторы\nfor i in range(1, 6):\n    s = f\"x{'-' * i}x\"\n    print(f'{i}  {s:10}', re.search('x-{2,4}x', s))",
      "execution_count": 19,
      "outputs": [
        {
          "output_type": "stream",
          "text": "1  x-x        None\n2  x--x       <_sre.SRE_Match object; span=(0, 4), match='x--x'>\n3  x---x      <_sre.SRE_Match object; span=(0, 5), match='x---x'>\n4  x----x     <_sre.SRE_Match object; span=(0, 6), match='x----x'>\n5  x-----x    None\n",
          "name": "stdout"
        }
      ]
    },
    {
      "metadata": {},
      "cell_type": "markdown",
      "source": "### Жадный захват\nПредположим дан HTML файл, нужно распарсить его и выбрать все теги из него.  \nHTML-теги — основа языка HTML. Теги используются для разграничения начала и конца элементов в разметке."
    },
    {
      "metadata": {
        "trusted": true
      },
      "cell_type": "code",
      "source": "s = \"\"\"\n    <html>\n        <head>\n            <title>Title</title>\n        </head>\n    </html>\n\"\"\"\nprint(len(s))  # длина строки",
      "execution_count": 20,
      "outputs": [
        {
          "output_type": "stream",
          "text": "88\n",
          "name": "stdout"
        }
      ]
    },
    {
      "metadata": {
        "trusted": true
      },
      "cell_type": "code",
      "source": "tag_pattern_greedy = re.compile(r'<.+>', re.DOTALL)  # включить \\n в множество любых символов\nresult = tag_pattern_greedy.search(s)\nprint(result)  # Жадный захват\nprint(result.group())",
      "execution_count": 21,
      "outputs": [
        {
          "output_type": "stream",
          "text": "<_sre.SRE_Match object; span=(5, 87), match='<html>\\n        <head>\\n            <title>Title<>\n<html>\n        <head>\n            <title>Title</title>\n        </head>\n    </html>\n",
          "name": "stdout"
        }
      ]
    },
    {
      "metadata": {
        "trusted": true
      },
      "cell_type": "code",
      "source": "print(tag_pattern_greedy.findall(s))  # тоже жадный захват",
      "execution_count": 22,
      "outputs": [
        {
          "output_type": "stream",
          "text": "['<html>\\n        <head>\\n            <title>Title</title>\\n        </head>\\n    </html>']\n",
          "name": "stdout"
        }
      ]
    },
    {
      "metadata": {},
      "cell_type": "markdown",
      "source": "---\nБез флага DOTALL"
    },
    {
      "metadata": {
        "trusted": true
      },
      "cell_type": "code",
      "source": "tag_pattern_greedy = re.compile(r'<.+>')\nresult = tag_pattern_greedy.search(s)\nprint(result)  # Жадный захват\nprint(result.group())",
      "execution_count": 23,
      "outputs": [
        {
          "output_type": "stream",
          "text": "<_sre.SRE_Match object; span=(5, 11), match='<html>'>\n<html>\n",
          "name": "stdout"
        }
      ]
    },
    {
      "metadata": {
        "trusted": true
      },
      "cell_type": "code",
      "source": "print(tag_pattern_greedy.findall(s))  # тоже жадный захват",
      "execution_count": 24,
      "outputs": [
        {
          "output_type": "stream",
          "text": "['<html>', '<head>', '<title>Title</title>', '</head>', '</html>']\n",
          "name": "stdout"
        }
      ]
    },
    {
      "metadata": {},
      "cell_type": "markdown",
      "source": "Жадный захват зависит не от используемого метода, а от самой регулярки. Составим \"ленивую\" регулярку, сделав квантификатор нежадным.  \nВсе квантификаторы по умолчанию являются жадными, чтобы сделать их нежадными, то после квантификатора нужно поставить знак вопроса `?`"
    },
    {
      "metadata": {
        "trusted": true
      },
      "cell_type": "code",
      "source": "tag_pattern_non_greedy = re.compile(r'<.*?>', re.DOTALL)\nresult = tag_pattern_non_greedy.search(s)\nprint(result)  # Нежадный захват\nprint(result.group())",
      "execution_count": 25,
      "outputs": [
        {
          "output_type": "stream",
          "text": "<_sre.SRE_Match object; span=(5, 11), match='<html>'>\n<html>\n",
          "name": "stdout"
        }
      ]
    },
    {
      "metadata": {
        "trusted": true
      },
      "cell_type": "code",
      "source": "print(tag_pattern_non_greedy.findall(s))",
      "execution_count": 26,
      "outputs": [
        {
          "output_type": "stream",
          "text": "['<html>', '<head>', '<title>', '</title>', '</head>', '</html>']\n",
          "name": "stdout"
        }
      ]
    },
    {
      "metadata": {},
      "cell_type": "markdown",
      "source": "Здесь в качестве учебно примера приведен парсинг HTML страниц с помощью регулярных выражений. \n\nДля поиска каких-то отдельных выражений можно использовать регулярные выражения.  \nДля серьезной работы используйте специализированные библиотеки для парсинга HTML страниц ! ! !"
    },
    {
      "metadata": {},
      "cell_type": "markdown",
      "source": "---\n## Скобочные группы\nЕсли в шаблоне есть группирующие скобки, то вместо списка найденных подстрок будет возвращён список кортежей, в каждом из которых только соответствие каждой группе."
    },
    {
      "metadata": {
        "trusted": true
      },
      "cell_type": "code",
      "source": "m = re.search('(\\w+),(\\w+),(\\w+)', 'foo,bar,baz')\nprint(m.groups())",
      "execution_count": 27,
      "outputs": [
        {
          "output_type": "stream",
          "text": "('foo', 'bar', 'baz')\n",
          "name": "stdout"
        }
      ]
    },
    {
      "metadata": {
        "trusted": true
      },
      "cell_type": "code",
      "source": "print(m.group())",
      "execution_count": 28,
      "outputs": [
        {
          "output_type": "stream",
          "text": "foo,bar,baz\n",
          "name": "stdout"
        }
      ]
    },
    {
      "metadata": {
        "trusted": true
      },
      "cell_type": "code",
      "source": "m = re.findall('(\\w+),(\\w+),(\\w+)', 'foo,bar,baz')\nprint(m)",
      "execution_count": 29,
      "outputs": [
        {
          "output_type": "stream",
          "text": "[('foo', 'bar', 'baz')]\n",
          "name": "stdout"
        }
      ]
    },
    {
      "metadata": {},
      "cell_type": "markdown",
      "source": "Это не всегда происходит по плану, поэтому обычно нужно использовать негруппирующие скобки `(?:...)`."
    },
    {
      "metadata": {
        "trusted": true
      },
      "cell_type": "code",
      "source": "m = re.findall('(?:\\w+),(?:\\w+),(?:\\w+)', 'foo,bar,baz')\nprint(m)",
      "execution_count": 30,
      "outputs": [
        {
          "output_type": "stream",
          "text": "['foo,bar,baz']\n",
          "name": "stdout"
        }
      ]
    },
    {
      "metadata": {
        "trusted": true
      },
      "cell_type": "markdown",
      "source": "### Именованные группы\nИменнованные группы позволяют обращаться к захваченным группам не по индексу, а по имени. То есть не нужно считать скобочки, не нужно знать в каком порядке они идут.  \n\nИменнованные группы обозначаются следующим синтаксисом: `(?P<name>...)`"
    },
    {
      "metadata": {},
      "cell_type": "markdown",
      "source": "Используя [часть](https://raw.githubusercontent.com/elastic/examples/master/Common%20Data%20Formats/apache_logs/apache_logs) логов web сервера apache, попробуем их распарсить"
    },
    {
      "metadata": {
        "trusted": true
      },
      "cell_type": "code",
      "source": "log_dump = \"\"\"\n66.249.73.185 - - [17/May/2015:11:15:58 +0000] \"GET /presentations/logstash-1/ HTTP/1.1\" 304 - \"-\" \"Mozilla/5.0 (compatible; Googlebot/2.1; +http://www.google.com/bot.html)\"\n74.125.176.81 - - [17/May/2015:12:23:28 +0000] \"GET /?flav=rss20 HTTP/1.1\" 200 29941 \"-\" \"FeedBurner/1.0 (http://www.FeedBurner.com)\"\n66.249.73.135 - - [17/May/2015:15:31:14 +0000] \"GET /blog/geekery/xdotool-2.20110530.html HTTP/1.1\" 200 11936 \"-\" \"Mozilla/5.0 (iPhone; CPU iPhone OS 6_0 like Mac OS X) AppleWebKit/536.26 (KHTML, like Gecko) Version/6.0 Mobile/10A5376e Safari/8536.25 (compatible; Googlebot/2.1; +http://www.google.com/bot.html)\"\n187.45.193.158 - - [17/May/2015:18:47:54 +0000] \"GET /presentations/logstash-1/file/about-me/tequila-face.jpg HTTP/1.1\" 200 196054 \"-\" \"Mozilla/4.0 (compatible; MSIE 6.0; Windows NT 5.2; SV1; .NET CLR 2.0.50727; InfoPath.1)\"\n90.220.199.149 - - [17/May/2015:21:55:18 +0000] \"GET /blog/geekery/puppet-manage-homedirectory-contents.html HTTP/1.1\" 200 10001 \"https://www.google.co.uk/\" \"Mozilla/5.0 (Macintosh; Intel Mac OS X 10_9_1) AppleWebKit/537.36 (KHTML, like Gecko) Chrome/32.0.1700.107 Safari/537.36\"\n\"\"\"",
      "execution_count": 31,
      "outputs": []
    },
    {
      "metadata": {
        "trusted": true
      },
      "cell_type": "code",
      "source": "# Составим регулярку, которая позволить захватывать из записей лога дату и время доступа\ndatetime = re.compile(r\"\\[(?P<day>\\d\\d)\\/(?P<month>\\w+)\\/(?P<year>\\d{4}):(?P<hour>\\d\\d):(?P<minute>\\d\\d):(?P<second>\\d\\d) \\+\\d\\d\\d\\d\\]\")\nfor index, item in enumerate(datetime.finditer(log_dump), 1):\n    print(f\"access {index}: {item['day']}/{item['month']}/{item['year']}\")",
      "execution_count": 32,
      "outputs": [
        {
          "output_type": "stream",
          "text": "access 1: 17/May/2015\naccess 2: 17/May/2015\naccess 3: 17/May/2015\naccess 4: 17/May/2015\naccess 5: 17/May/2015\n",
          "name": "stdout"
        }
      ]
    },
    {
      "metadata": {
        "trusted": true
      },
      "cell_type": "markdown",
      "source": "### Незапоминающие группы\nНе всегда необходимо запоминать захваченные группы. Как минимум это требует дополнительной памяти, поэтому не ленитесь делать группы не запоминающими, если нет потребности в обратном.  \n\nСоздадим регулярку для поиска ip адресов"
    },
    {
      "metadata": {
        "trusted": true
      },
      "cell_type": "code",
      "source": "ip = re.compile(r\"\"\"\n    (?:(?:[25[0-5]]|  # 250-255\n    2[0-4][0-9]|      # 200-249\n    [01]?[0-9]?[0-9])  # 0-199\n    \\.){3}            # three octet\n    (?:[25[0-5]]|2[0-4][0-9]|[01]?[0-9]?[0-9])  # fourth octet\n    \"\"\", re.VERBOSE)\n\nprint(ip.findall(log_dump))",
      "execution_count": 33,
      "outputs": [
        {
          "output_type": "stream",
          "text": "['66.249.73.185', '74.125.176.81', '66.249.73.135', '187.45.193.158', '90.220.199.149']\n",
          "name": "stdout"
        }
      ]
    }
  ],
  "metadata": {
    "kernelspec": {
      "name": "python36",
      "display_name": "Python 3.6",
      "language": "python"
    },
    "language_info": {
      "mimetype": "text/x-python",
      "nbconvert_exporter": "python",
      "name": "python",
      "pygments_lexer": "ipython3",
      "version": "3.6.6",
      "file_extension": ".py",
      "codemirror_mode": {
        "version": 3,
        "name": "ipython"
      }
    }
  },
  "nbformat": 4,
  "nbformat_minor": 2
}