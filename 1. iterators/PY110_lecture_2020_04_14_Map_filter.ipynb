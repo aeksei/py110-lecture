{
  "cells": [
    {
      "metadata": {},
      "cell_type": "markdown",
      "source": "# Функциональные преобразования списков"
    },
    {
      "metadata": {},
      "cell_type": "markdown",
      "source": "## map\nФункция [map](https://docs.python.org/3/library/functions.html#map) пришла из функционального программирования и позволяет применять некую функцию к каждому элементу итерируемого объекта"
    },
    {
      "metadata": {},
      "cell_type": "markdown",
      "source": "Фактически `map` реализуется следующим образом:\n``` python\ndef map_(func, some_list):\n    # some_list объект, над которым будет производиться преобразование\n    # func функция, которая должна выполняться над каждым объектом\n    outp = []\n    for i in range(len(some_list)):\n        outp.append(func(some_list[i]))\n    return outp\n```"
    },
    {
      "metadata": {},
      "cell_type": "markdown",
      "source": "Чтобы не использовать такую конструкцию каждый раз, введена встроенная функция\n``` python\nmap(function, iter1, iter2, ...)\n```\n\n- `iter1, iter2, ...` - может быть 1+ перечисляемых объектов, однако на вход функции должно приходить такое же количество объектов.\n- `function` - ссылка на функцию"
    },
    {
      "metadata": {
        "trusted": true
      },
      "cell_type": "code",
      "source": "def pow_(a, n=2):  # функция возведения в степень\n    return a ** n",
      "execution_count": 1,
      "outputs": []
    },
    {
      "metadata": {
        "trusted": true
      },
      "cell_type": "code",
      "source": "a_list = [1, 2, 3]\nresult = map(pow_, a_list)\nprint(result)",
      "execution_count": 2,
      "outputs": [
        {
          "output_type": "stream",
          "text": "<map object at 0x7f26a7728c18>\n",
          "name": "stdout"
        }
      ]
    },
    {
      "metadata": {
        "trusted": true
      },
      "cell_type": "code",
      "source": "# функция map возвращает итерируемый объект\nprint(type(result))",
      "execution_count": 3,
      "outputs": [
        {
          "output_type": "stream",
          "text": "<class 'map'>\n",
          "name": "stdout"
        }
      ]
    },
    {
      "metadata": {
        "trusted": true
      },
      "cell_type": "code",
      "source": "print(list(result))",
      "execution_count": 4,
      "outputs": [
        {
          "output_type": "stream",
          "text": "[1, 4, 9]\n",
          "name": "stdout"
        }
      ]
    },
    {
      "metadata": {},
      "cell_type": "markdown",
      "source": "---"
    },
    {
      "metadata": {
        "trusted": true
      },
      "cell_type": "code",
      "source": "# возвести в произвольную степень\n",
      "execution_count": 5,
      "outputs": []
    },
    {
      "metadata": {
        "trusted": true
      },
      "cell_type": "code",
      "source": "# перевести символы в нижний регистр\nl = ['THIS', 'IS', 'LOWER', 'STRING']\nprint(list(map(str.lower, l)))",
      "execution_count": 6,
      "outputs": [
        {
          "output_type": "stream",
          "text": "['this', 'is', 'lower', 'string']\n",
          "name": "stdout"
        }
      ]
    },
    {
      "metadata": {
        "trusted": true
      },
      "cell_type": "code",
      "source": "",
      "execution_count": null,
      "outputs": []
    },
    {
      "metadata": {},
      "cell_type": "markdown",
      "source": "---\n## filter"
    },
    {
      "metadata": {},
      "cell_type": "markdown",
      "source": "Функция [filter](https://docs.python.org/3/library/functions.html#filter) аналогична функции `map`, с некоторыми особенностями\n\nПринимает на вход:\n- функцию, которая возвращает *bool* значение (True/False)\n- итерируемый объект, над которым будет производиться фильтрация (**!!! только один объект**)\n\nВозвращает итерируемый объект с теми элементами из входящей последовательности, для которых функция вернула `True`.\n\nОбратите внимание, что в отличии от `map` функция `filter` принимает только один итерируемый объект"
    },
    {
      "metadata": {},
      "cell_type": "markdown",
      "source": "```python\ndef filter(func, cont):\n    outp = []\n    for x in cont:\n        if func(x):\n            outp.append(x)\n    return outp\n```"
    },
    {
      "metadata": {
        "trusted": true
      },
      "cell_type": "code",
      "source": "# Из заданного списка вывести только положительные элементы\ndef f(x):\n    return x > 0  # функция возвращает только True или False\n\nresult = filter(f, [-2, -1, 0, 1, -3, 2, -3])\n\n# Возвращается итерируемый объект, т.е. перечисляйте или приводите к списку\nprint(list(result))",
      "execution_count": 11,
      "outputs": [
        {
          "output_type": "stream",
          "text": "[1, 2]\n",
          "name": "stdout"
        }
      ]
    },
    {
      "metadata": {
        "trusted": true
      },
      "cell_type": "code",
      "source": "# фильтрация из строки только строчных букв и цифр\n",
      "execution_count": 8,
      "outputs": []
    },
    {
      "metadata": {
        "trusted": true
      },
      "cell_type": "code",
      "source": "# фильтрация только определенных ",
      "execution_count": null,
      "outputs": []
    },
    {
      "metadata": {},
      "cell_type": "markdown",
      "source": "---\n \nЧаще всего генераторы списков более читаемы, чем `map` и `filter`, особенно в простых конструкциях."
    },
    {
      "metadata": {
        "trusted": true
      },
      "cell_type": "code",
      "source": "# map + filter\nsome_list = [i - 10 for i in range(20)]\ndef f2(x): return x**2\ndef f(x): return x > 0\n\nprint(some_list)\nprint(list(map(f2, filter(f, some_list))))",
      "execution_count": 13,
      "outputs": [
        {
          "output_type": "stream",
          "text": "[-10, -9, -8, -7, -6, -5, -4, -3, -2, -1, 0, 1, 2, 3, 4, 5, 6, 7, 8, 9]\n[1, 4, 9, 16, 25, 36, 49, 64, 81]\n",
          "name": "stdout"
        }
      ]
    },
    {
      "metadata": {
        "trusted": true
      },
      "cell_type": "code",
      "source": "# List Comprehension\n[i**2 for i in some_list if i > 0]",
      "execution_count": 14,
      "outputs": [
        {
          "output_type": "execute_result",
          "execution_count": 14,
          "data": {
            "text/plain": "[1, 4, 9, 16, 25, 36, 49, 64, 81]"
          },
          "metadata": {}
        }
      ]
    },
    {
      "metadata": {},
      "cell_type": "markdown",
      "source": "![map_vs_comprehension](../images/map_vs_comprehension.jpeg \"Logo Title Text 1\")"
    },
    {
      "metadata": {},
      "cell_type": "markdown",
      "source": "Подробнее можно ознакомиться [здесь](https://habr.com/ru/post/479252/) \n\n---"
    },
    {
      "metadata": {
        "trusted": true
      },
      "cell_type": "code",
      "source": "map(func, list1)  # итератор, но никаких вычислений не будет произведено\nlist(map(...))  # только здесь появляется объект\n\n[func(i) for i in list1]  # сразу готовый объект\n\n\n[func(i) for i in list1] == list(map(func, list1))",
      "execution_count": null,
      "outputs": []
    },
    {
      "metadata": {},
      "cell_type": "markdown",
      "source": "## zip\nФункция высшего порядка [zip](https://docs.python.org/3/library/functions.html#zip), которая «сшивает» несколько списков друг с другом\n``` python\na = [1, 2, 3]\nb = [‘a’, ‘b’, ‘c’]\nlist(zip(a, b)) # [(1, ‘a’), (2, ‘b’), (3, ‘c’)]\n```"
    },
    {
      "metadata": {
        "trusted": true
      },
      "cell_type": "code",
      "source": "a = [1, 2, 3][::-1]\nb = ['a', 'b']\nlist(zip(a, b))",
      "execution_count": 15,
      "outputs": [
        {
          "output_type": "execute_result",
          "execution_count": 15,
          "data": {
            "text/plain": "[(1, 'a'), (2, 'b')]"
          },
          "metadata": {}
        }
      ]
    },
    {
      "metadata": {
        "trusted": true
      },
      "cell_type": "code",
      "source": "# создание словаря\n",
      "execution_count": null,
      "outputs": []
    },
    {
      "metadata": {
        "trusted": true
      },
      "cell_type": "code",
      "source": "# индексы элементов\n",
      "execution_count": null,
      "outputs": []
    },
    {
      "metadata": {},
      "cell_type": "markdown",
      "source": "## enumerate\nОчередная встроенная функция [enumerate](https://docs.python.org/3/library/functions.html#enumerate), предназначенная для перечисления объектов  \nАналогична функции\n``` python\nzip(range(len(some_iterable)), some_iterable)\n```\nТ.е. возвращает кортежи из двух элементов, где первый элемент – номер, а второй – сам элемент."
    },
    {
      "metadata": {
        "trusted": true
      },
      "cell_type": "code",
      "source": "# пример использования enumerate\n",
      "execution_count": null,
      "outputs": []
    },
    {
      "metadata": {
        "trusted": true
      },
      "cell_type": "code",
      "source": "# enumerate можно указать начальный элемент для старта",
      "execution_count": null,
      "outputs": []
    },
    {
      "metadata": {},
      "cell_type": "markdown",
      "source": "## Выражения генераторы \nБыстро освежим в памяти как работают comprehensions"
    },
    {
      "metadata": {
        "trusted": true
      },
      "cell_type": "code",
      "source": "a = [i for i in range(1, 12, 3)]  \nb = {i for i in \"hello, world\"}\nc = {i: i.upper() for i in \"abcdefghijklm\"}",
      "execution_count": 16,
      "outputs": []
    },
    {
      "metadata": {
        "trusted": true
      },
      "cell_type": "code",
      "source": "print(a)\nprint(b)\nprint(c)",
      "execution_count": 17,
      "outputs": [
        {
          "output_type": "stream",
          "text": "[1, 4, 7, 10]\n{',', 'l', 'r', 'o', 'd', ' ', 'e', 'w', 'h'}\n{'a': 'A', 'b': 'B', 'c': 'C', 'd': 'D', 'e': 'E', 'f': 'F', 'g': 'G', 'h': 'H', 'i': 'I', 'j': 'J', 'k': 'K', 'l': 'L', 'm': 'M'}\n",
          "name": "stdout"
        }
      ]
    },
    {
      "metadata": {
        "trusted": true
      },
      "cell_type": "code",
      "source": "# Примеры чуть посложнее:\nmy_list = list(range(10))\nx = [i**3 for i in my_list if i > 4 and i % 2]\ny = {f\"{x} * {y}\": y for x in range(10) for y in range(7, 0 ,-1) if x * y > 10}",
      "execution_count": 18,
      "outputs": []
    },
    {
      "metadata": {
        "trusted": true
      },
      "cell_type": "code",
      "source": "print(x)\nprint(y)",
      "execution_count": 19,
      "outputs": [
        {
          "output_type": "stream",
          "text": "[125, 343, 729]\n{'2 * 7': 7, '2 * 6': 6, '3 * 7': 7, '3 * 6': 6, '3 * 5': 5, '3 * 4': 4, '4 * 7': 7, '4 * 6': 6, '4 * 5': 5, '4 * 4': 4, '4 * 3': 3, '5 * 7': 7, '5 * 6': 6, '5 * 5': 5, '5 * 4': 4, '5 * 3': 3, '6 * 7': 7, '6 * 6': 6, '6 * 5': 5, '6 * 4': 4, '6 * 3': 3, '6 * 2': 2, '7 * 7': 7, '7 * 6': 6, '7 * 5': 5, '7 * 4': 4, '7 * 3': 3, '7 * 2': 2, '8 * 7': 7, '8 * 6': 6, '8 * 5': 5, '8 * 4': 4, '8 * 3': 3, '8 * 2': 2, '9 * 7': 7, '9 * 6': 6, '9 * 5': 5, '9 * 4': 4, '9 * 3': 3, '9 * 2': 2}\n",
          "name": "stdout"
        }
      ]
    },
    {
      "metadata": {},
      "cell_type": "markdown",
      "source": "---\nВ чем минус comprehensions?\n\nОн создает сразу объект целиком, который целиком в памяти хранится.\nЭто полезно для словарей и множеств, а также для списков, с которыми мы потом будем много раз работать."
    },
    {
      "metadata": {},
      "cell_type": "markdown",
      "source": "Но что, если нам нужен список, по которому мы будем перечислять и он нужен только один раз?  \nА если мы его хотим бесконечной длины??\n```python\na = [i**2 for i in itertools.count(1, 1)]\n```"
    },
    {
      "metadata": {},
      "cell_type": "markdown",
      "source": "И тут нам на помощь приходят генераторы. Они отличаются от вложений тем, что не вычисляются сразу, а только в тот момент, когда мы обращаемся к следующему элементу"
    },
    {
      "metadata": {},
      "cell_type": "markdown",
      "source": "Отличие от comprehensions только в том, что мы используем круглые скобки\n``` python\na = (i**2 for i in itertools.count(1, 1))\n```\n\nДанное выражение возвращает итерируемый объект, который сам по себе является итератором.\nТ.е. можно сразу его перечислять (с помощью `for` или `next`), а можно взять `iter(a)` и применять `next` к итератору (но не имеет смысла)."
    },
    {
      "metadata": {
        "trusted": true
      },
      "cell_type": "code",
      "source": "sqrt_gen_exp = (i ** 2 for i in range(1, 11))  # выражение генератор\nprint(type(sqrt_gen_exp))",
      "execution_count": 21,
      "outputs": [
        {
          "output_type": "stream",
          "text": "<class 'generator'>\n",
          "name": "stdout"
        }
      ]
    },
    {
      "metadata": {
        "trusted": true
      },
      "cell_type": "code",
      "source": "next(sqrt_gen_exp)",
      "execution_count": 22,
      "outputs": [
        {
          "output_type": "execute_result",
          "execution_count": 22,
          "data": {
            "text/plain": "1"
          },
          "metadata": {}
        }
      ]
    },
    {
      "metadata": {
        "trusted": true
      },
      "cell_type": "code",
      "source": "next(sqrt_gen_exp)",
      "execution_count": 23,
      "outputs": [
        {
          "output_type": "execute_result",
          "execution_count": 23,
          "data": {
            "text/plain": "4"
          },
          "metadata": {}
        }
      ]
    },
    {
      "metadata": {
        "trusted": true
      },
      "cell_type": "code",
      "source": "iter(sqrt_gen_exp)",
      "execution_count": 24,
      "outputs": [
        {
          "output_type": "execute_result",
          "execution_count": 24,
          "data": {
            "text/plain": "<generator object <genexpr> at 0x7f26a76abb48>"
          },
          "metadata": {}
        }
      ]
    },
    {
      "metadata": {
        "trusted": true
      },
      "cell_type": "code",
      "source": "sqrt_gen_exp",
      "execution_count": 25,
      "outputs": [
        {
          "output_type": "execute_result",
          "execution_count": 25,
          "data": {
            "text/plain": "<generator object <genexpr> at 0x7f26a76abb48>"
          },
          "metadata": {}
        }
      ]
    },
    {
      "metadata": {
        "trusted": true
      },
      "cell_type": "code",
      "source": "# пример работы с генератором",
      "execution_count": null,
      "outputs": []
    },
    {
      "metadata": {},
      "cell_type": "markdown",
      "source": "**Основной плюс генераторов** – они не хранят все элементы в памяти, а вычисляют очередной элемент на момент обращения к нему.\n\n**Основной минус** – с такой записью генераторов достаточно сложно реализовать сложную логику подсчета следующего элемента (хочу генератор чисел Фибоначчи, например)\n\nА с какой записью легче? Увидим уже на следующей лекции. "
    },
    {
      "metadata": {},
      "cell_type": "markdown",
      "source": "![common iterators description](../images/generators.png \"Logo Title Text 1\")"
    }
  ],
  "metadata": {
    "kernelspec": {
      "name": "python36",
      "display_name": "Python 3.6",
      "language": "python"
    },
    "language_info": {
      "mimetype": "text/x-python",
      "nbconvert_exporter": "python",
      "name": "python",
      "pygments_lexer": "ipython3",
      "version": "3.6.6",
      "file_extension": ".py",
      "codemirror_mode": {
        "version": 3,
        "name": "ipython"
      }
    }
  },
  "nbformat": 4,
  "nbformat_minor": 1
}