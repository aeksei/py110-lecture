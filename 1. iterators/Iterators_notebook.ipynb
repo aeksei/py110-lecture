{
  "cells": [
    {
      "metadata": {},
      "cell_type": "markdown",
      "source": "# Итераторы"
    },
    {
      "metadata": {},
      "cell_type": "markdown",
      "source": "Вспоминаем подноготную итераторов.  \nУ итерируемых объектов есть метод iter(), который вернет нам итератор."
    },
    {
      "metadata": {
        "trusted": false
      },
      "cell_type": "code",
      "source": "a = [i for i in range(2)]\ni_a = iter(a)\nprint(type(i_a))",
      "execution_count": null,
      "outputs": []
    },
    {
      "metadata": {},
      "cell_type": "markdown",
      "source": "Далее мы можем этот самый итератор перебирать методом next()"
    },
    {
      "metadata": {
        "trusted": false
      },
      "cell_type": "code",
      "source": "print(next(i_a))\nprint(next(i_a))\nprint(next(i_a))",
      "execution_count": null,
      "outputs": []
    },
    {
      "metadata": {},
      "cell_type": "markdown",
      "source": "Заметьте, как только итератор кончился - возникло исключение StopIteration."
    },
    {
      "metadata": {},
      "cell_type": "markdown",
      "source": "К счастью, циклы for, while, слайсы и вообще все, что перебирает объект уже реализует за нас логику обработки итераторов и нам ничего не надо делать.  \n  \nДавайте посмотрим, как одни и те же команды работают одинаково с разными **итерируемыми** объектами."
    },
    {
      "metadata": {
        "trusted": false
      },
      "cell_type": "code",
      "source": "a = \"abcdefg\"\nfor i in a:\n    print(i)",
      "execution_count": null,
      "outputs": []
    },
    {
      "metadata": {
        "trusted": false
      },
      "cell_type": "code",
      "source": "a = [\"1\", \"2\", \"3\", \"4\", \"5\", \"6\"]\nfor i in a:\n    print(i)",
      "execution_count": null,
      "outputs": []
    },
    {
      "metadata": {
        "trusted": false
      },
      "cell_type": "code",
      "source": "a = range(5)\nfor i in a:\n    print(i)",
      "execution_count": null,
      "outputs": []
    },
    {
      "metadata": {
        "trusted": false
      },
      "cell_type": "code",
      "source": "a = {0, 10, 20, 30, 40}\nfor i in a:\n    print(i)",
      "execution_count": null,
      "outputs": []
    },
    {
      "metadata": {},
      "cell_type": "markdown",
      "source": "Прекрасно, наигрались и хватит.  \n  \nТеперь давайте вспомним модуль itertools. Точнее, **вы** вспомните."
    },
    {
      "metadata": {
        "trusted": false
      },
      "cell_type": "code",
      "source": "import itertools",
      "execution_count": null,
      "outputs": []
    },
    {
      "metadata": {
        "trusted": false
      },
      "cell_type": "code",
      "source": "# бесконечная арифметическая прогрессия\nfor i in itertools.что_то:\n    print(i)",
      "execution_count": null,
      "outputs": []
    },
    {
      "metadata": {
        "trusted": false
      },
      "cell_type": "code",
      "source": "# бесконечно в цикле повторяем кортеж\na = (1, 2, 3)\nfor i in itertools.что_то:\n    print(i)",
      "execution_count": null,
      "outputs": []
    },
    {
      "metadata": {
        "trusted": false
      },
      "cell_type": "code",
      "source": "# повторяем число 4 раза\na = 10\nfor i in itertools.что_то:\n    print(i)",
      "execution_count": null,
      "outputs": []
    },
    {
      "metadata": {},
      "cell_type": "markdown",
      "source": "Прекрасно. Можете скушать конфету."
    },
    {
      "metadata": {},
      "cell_type": "markdown",
      "source": "# Функциональные преобразования списков\nДа-да, это тоже нужно. Давайте с ходу в бой. Вспоминаем map."
    },
    {
      "metadata": {
        "trusted": false
      },
      "cell_type": "code",
      "source": "# вывести длину каждого элемента в списке\na = [\"asd\", \"bbd\", \"ddfa\", \"mcsa\"]\nfor i in что_то_с_map_от_a:\n    print(i)",
      "execution_count": null,
      "outputs": []
    },
    {
      "metadata": {
        "trusted": false
      },
      "cell_type": "code",
      "source": "# сделаем текст большим! (все буквы - заглавными)\na = [\"это\", \"маленький\", \"текст\", \"обидно\"]\na = ... # вам нужна какая-то функция для того, чтобы сделать строку большой... но какая?\n        # подсказка - она доступна у str. Введите str. и нажмите tab. Если не нашли - напишите свою.\na = list(a)\nprint(a)",
      "execution_count": null,
      "outputs": []
    },
    {
      "metadata": {},
      "cell_type": "markdown",
      "source": "Теперь filter..."
    },
    {
      "metadata": {
        "trusted": false
      },
      "cell_type": "code",
      "source": "# оставьте только те цифры, которые больше 3-х\ndef less_than_3(x):\n    pass\n\na = [1, 2, 3, 4, 5]\na = ...        # хм... Что же сюда?\na = list(a)    # кстати, заметили, что нам нужно приводить результат к списку? \nprint(a)       # Все потому, что результат filter (и map) - итерируемый объект.\n               # Можете перечислить его циклом и убедиться",
      "execution_count": null,
      "outputs": []
    },
    {
      "metadata": {},
      "cell_type": "markdown",
      "source": "... zip ..."
    },
    {
      "metadata": {
        "trusted": false
      },
      "cell_type": "code",
      "source": "# хочу записанный вывод через тире :)\n# 1-a\n# 2-b \n# ну и так далее\n\na = [1, 2, 3, 4, 5]\nb = ['a', 'b', 'c', 'd', 'e']\nfor ... :\n    print(...)",
      "execution_count": null,
      "outputs": []
    },
    {
      "metadata": {},
      "cell_type": "markdown",
      "source": "... enumerate ..."
    },
    {
      "metadata": {
        "trusted": false
      },
      "cell_type": "code",
      "source": "# а теперь то же самое\n# но без списка чисел\n# нет, не с нуля\n\na = ['a', 'b', 'c', 'd', 'e']\nfor ... :\n    print(...)",
      "execution_count": null,
      "outputs": []
    },
    {
      "metadata": {},
      "cell_type": "markdown",
      "source": "Ура, вы почти готовы к практике! Продолжайте в том же духе."
    },
    {
      "metadata": {},
      "cell_type": "markdown",
      "source": "# Генераторы\nОсталось совсем чуть-чуть."
    },
    {
      "metadata": {
        "trusted": false
      },
      "cell_type": "code",
      "source": "# хм, мне нужен объект, который бесконечно будет возвращать корни четных возрастающих чисел \n# 1.414 (корень 2-х), 2 (корень 4-х), 2.449 (корень 6-и) и так далее\n# справитесь?\n\na = ...\nfor i in range(10):\n    print(next(a))",
      "execution_count": null,
      "outputs": []
    },
    {
      "metadata": {},
      "cell_type": "markdown",
      "source": "Если вы все сделали правильно - у вас есть объект с бесконечной потенциальной длиной, но вы тратите конечное время памяти. Чудеса. :)  \n  \nДавайте на этом закончим. Жду вас на практике!"
    }
  ],
  "metadata": {
    "kernelspec": {
      "name": "python3",
      "display_name": "Python 3",
      "language": "python"
    },
    "language_info": {
      "mimetype": "text/x-python",
      "nbconvert_exporter": "python",
      "name": "python",
      "pygments_lexer": "ipython3",
      "version": "3.5.4",
      "file_extension": ".py",
      "codemirror_mode": {
        "version": 3,
        "name": "ipython"
      }
    }
  },
  "nbformat": 4,
  "nbformat_minor": 2
}