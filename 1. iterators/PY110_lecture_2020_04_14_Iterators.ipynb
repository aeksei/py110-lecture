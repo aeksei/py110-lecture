{
 "cells": [
  {
   "metadata": {
    "collapsed": true
   },
   "cell_type": "markdown",
   "source": [
    "# Итераторы\n",
    "\n",
    "**Итератор** – паттерн проектирования, созданный для создания единого интерфейса обхода объекта без раскрытия его внутреннего представления."
   ],
   "attachments": {}
  },
  {
   "metadata": {},
   "cell_type": "markdown",
   "source": [
    "Вы знаете, как внутри устроены строки? А списки? А множества? \n",
    "\n",
    "А ведь по всем этим объектам можно итерировать с помощью единого механизма."
   ]
  },
  {
   "metadata": {
    "trusted": true,
    "pycharm": {
     "is_executing": false
    }
   },
   "cell_type": "code",
   "source": [
    "for l in [1, 2, 3]:  # список\n",
    "    pass\n",
    "\n",
    "\n",
    "for s in \"test\":  # строка\n",
    "    pass\n",
    "\n",
    "for s in {1, 2, 3, 3, 6}:  # множество\n",
    "    pass\n",
    "\n",
    "for t in ((1, 2), (3, 4)):  # кортеж\n",
    "    pass\n",
    "\n",
    "for t in {1: 2, 3: 4}:  # словарь\n",
    "    pass\n",
    "\n",
    "# и ещё один объект для задания диапазона\n",
    "for i in range(10):\n",
    "    pass"
   ],
   "execution_count": null,
   "outputs": []
  },
  {
   "metadata": {
    "trusted": true,
    "pycharm": {
     "is_executing": false
    }
   },
   "cell_type": "code",
   "source": "# будет вызвана ошибка\nfor i in 5: \n    pass",
   "execution_count": null,
   "outputs": []
  },
  {
   "metadata": {},
   "cell_type": "markdown",
   "source": "**Итерируемые объекты** – такие объекты, у которых реализован метод `__iter__`, который возвращает *объект итератор*.\nОбъект итератор реализует метод `next`, который позволяет получить доступ к следующему элементу в последовательности. Т.е. *объект итератор* является тем самым единым интерфейсом. "
  },
  {
   "metadata": {},
   "cell_type": "markdown",
   "source": "### Механизм взаимодействия такой:  \n1. Сначала получили итератор от итерируемого объекта\n2. Потом несколько раз обращаемся к итератору и получаем элементы последовательности"
  },
  {
   "metadata": {},
   "cell_type": "markdown",
   "source": "Для работы с итераторами в языке есть 2 встроенные функции:\n- `iter(some_object)` – получает итератор итерируемого объекта\n- `next(some_iterator)` – получает следующий элемент последовательности"
  },
  {
   "metadata": {},
   "cell_type": "markdown",
   "source": "В качестве примера возьмем строку и получим от неё итератор"
  },
  {
   "metadata": {
    "trusted": true
   },
   "cell_type": "code",
   "source": "# для примера возьмём строку\nstr_ = \"my tst\"\nstr_iter = iter(str_)\n\nprint(type(str_))  # строка\nprint(type(str_iter))  # итератор строки",
   "execution_count": null,
   "outputs": []
  },
  {
   "metadata": {
    "trusted": true
   },
   "cell_type": "code",
   "source": "# Назовите отчего ещё можно получить итератор\n",
   "execution_count": null,
   "outputs": []
  },
  {
   "metadata": {},
   "cell_type": "markdown",
   "source": "---"
  },
  {
   "metadata": {
    "trusted": true
   },
   "cell_type": "code",
   "source": "# Получим первый элемент строки\nprint(next(str_iter))",
   "execution_count": null,
   "outputs": []
  },
  {
   "metadata": {
    "trusted": true
   },
   "cell_type": "code",
   "source": "# Получим ещё несколько элементов последовательности\nprint(next(str_iter))\nprint(next(str_iter))\nprint(next(str_iter))\nprint(next(str_iter))\nprint(next(str_iter))",
   "execution_count": null,
   "outputs": []
  },
  {
   "metadata": {},
   "cell_type": "markdown",
   "source": "Особенность итераторов в том, что нельзя перепрыгнуть через несколько элементов. Все элементы получаются последовательно. Так же назад вернуться нельзя.\n\n---"
  },
  {
   "metadata": {},
   "cell_type": "markdown",
   "source": "Как вы думаете, что будет происходить, когда последовательность закончится?"
  },
  {
   "metadata": {
    "trusted": true
   },
   "cell_type": "code",
   "source": "# Проверить, что будет происходить после окончания последовательности\nprint(next(str_iter))",
   "execution_count": null,
   "outputs": []
  },
  {
   "metadata": {},
   "cell_type": "markdown",
   "source": "---"
  },
  {
   "metadata": {},
   "cell_type": "markdown",
   "source": "Итого, логика работы с итераторами в языке Python следующая:\n1. Получаем итератор с помощью `iter(iterable_object)`\n2. Вызываем много раз `next(iterator)`\n3. Когда получим `StopIteration` – прекращаем работу\n\n---"
  },
  {
   "metadata": {
    "trusted": true
   },
   "cell_type": "code",
   "source": "my_list = [1, (43, 26), \"test\", [\"end\"]]\n\nmy_list_iter = iter(my_list)  # создаем объект итератор\nwhile True:\n    try:\n        print(next(my_list_iter))  # берем следующий элемент\n    except StopIteration:  # как только элементы в последовательности закончатся будет вызвано исключение\n        break",
   "execution_count": null,
   "outputs": []
  },
  {
   "metadata": {
    "trusted": true
   },
   "cell_type": "code",
   "source": "for item in my_list:\n    print(item)",
   "execution_count": null,
   "outputs": []
  },
  {
   "metadata": {},
   "cell_type": "markdown",
   "source": "### Итог: \n\nцикл `for` – это всего лишь обертка над итераторами"
  },
  {
   "metadata": {},
   "cell_type": "markdown",
   "source": "---"
  },
  {
   "metadata": {
    "trusted": true
   },
   "cell_type": "code",
   "source": "# что будет выведено и почему?\nr = range(3)  # 0, 1, 2 \n\nprint(next(iter(r)))\nprint(next(iter(r)))\nprint(next(iter(r)))\nprint(next(iter(r)))",
   "execution_count": null,
   "outputs": []
  },
  {
   "metadata": {},
   "cell_type": "markdown",
   "source": "В отличие от других языков программирования, где для цикла `for` нужно использовать условие для остановки, в Python число шагов цикла ограничено длиной последовательности  \n\n**C/C++/Java**\n```c\nfor (int i = 0; i < 10; i++):\n    ...\n```\n\n**Python**\n```python\nfor i in range(10):\n    pass\n```"
  },
  {
   "metadata": {},
   "cell_type": "markdown",
   "source": "В дальнейшем при создании своего объекта вы можете реализовать свойство итерируемости с помощью следующих методов:\n- `__iter__()` – возвращает итератор\n- `__next__()` – возвращает элемент последовательности\n\n**Подробнее**: см. следующий курс PY200, про ООП (либо доп. литературу)"
  },
  {
   "metadata": {
    "trusted": true
   },
   "cell_type": "code",
   "source": "# Если интересно могу показать как работают эти методы\n",
   "execution_count": null,
   "outputs": []
  },
  {
   "metadata": {},
   "cell_type": "markdown",
   "source": "# Itertools\n**itertools** – модуль, в котором реализованы некоторые дополнительные полезные итерируемые объекты\n\nВместо того чтобы делать \"велосипеды\", гуглите, гуглите и гуглите!\nОбязательно пользуйтесь документацией: \n- [itertools](https://docs.python.org/3/library/itertools.html)\n- [примеры на русском](https://pythonworld.ru/moduli/modul-itertools.html)",
   "attachments": {}
  },
  {
   "metadata": {},
   "cell_type": "markdown",
   "source": "\n```python\nitertools.count(start, step) – бесконечная арифметическая прогрессия с первым членом start и шагом step\n```"
  },
  {
   "metadata": {},
   "cell_type": "markdown",
   "source": "```python\nitertools.cycle(iter_obj) – возвращает по одному значению из последовательности, повторенной бесконечное число раз.\n```"
  }
 ],
 "metadata": {
  "kernelspec": {
   "name": "python3",
   "language": "python",
   "display_name": "Python 3"
  },
  "language_info": {
   "mimetype": "text/x-python",
   "nbconvert_exporter": "python",
   "name": "python",
   "pygments_lexer": "ipython3",
   "version": "3.6.6",
   "file_extension": ".py",
   "codemirror_mode": {
    "version": 3,
    "name": "ipython"
   }
  },
  "pycharm": {
   "stem_cell": {
    "cell_type": "raw",
    "source": [],
    "metadata": {
     "collapsed": false
    }
   }
  }
 },
 "nbformat": 4,
 "nbformat_minor": 2
}