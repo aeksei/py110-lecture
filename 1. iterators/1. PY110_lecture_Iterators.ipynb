{
 "cells": [
  {
   "cell_type": "markdown",
   "metadata": {
    "collapsed": true
   },
   "source": [
    "# Итераторы"
   ]
  },
  {
   "cell_type": "markdown",
   "metadata": {},
   "source": [
    "Вы знаете, как внутри устроены строки? А списки? А множества? \n",
    "\n",
    "Чтобы пройтись по всем значениям этих последовательностей (пройтись - значит итерироваться), нам достаточно знать функцию, которая возвращает следующее значение, и нам не важно как устроена та или иная последовательность."
   ]
  },
  {
   "cell_type": "markdown",
   "metadata": {},
   "source": [
    "Аналогию можно провести в таком ключе, вы можете звонить как с домашнего телефона или с мобильного, все они по разному осуществляют соединение абонентов. Вам как пользователю не нужно знать как будет происходить соединение, вам нужно знать только номер абонента чтобы позвонить ему, который одинаков для всех средств телефонной связи."
   ]
  },
  {
   "cell_type": "markdown",
   "metadata": {},
   "source": [
    "Вспомним как цикл `for` работает с некоторыми встроеными типами данных"
   ]
  },
  {
   "cell_type": "code",
   "execution_count": null,
   "metadata": {
    "pycharm": {
     "is_executing": false
    }
   },
   "outputs": [],
   "source": [
    "for l in [1, 2, 3]:  # Итерируемся по списоку\n",
    "    print(l)"
   ]
  },
  {
   "cell_type": "code",
   "execution_count": null,
   "metadata": {},
   "outputs": [],
   "source": [
    "for s in \"test\":  # Итерируемся по строке\n",
    "    print(s)"
   ]
  },
  {
   "cell_type": "code",
   "execution_count": null,
   "metadata": {},
   "outputs": [],
   "source": [
    "for s in {1, 2, 3, 3, 6}:  # Итерируемся по множеству\n",
    "    print(s)"
   ]
  },
  {
   "cell_type": "code",
   "execution_count": null,
   "metadata": {},
   "outputs": [],
   "source": [
    "for t in ((1, 2), (3, 4)):  # Итерируемся по кортежу\n",
    "    print(t)"
   ]
  },
  {
   "cell_type": "code",
   "execution_count": null,
   "metadata": {},
   "outputs": [],
   "source": [
    "for t in {1: 2, 3: 4}:  # Итерируемся по словарю\n",
    "    print(t)"
   ]
  },
  {
   "cell_type": "code",
   "execution_count": null,
   "metadata": {},
   "outputs": [],
   "source": [
    "for i in range(5):  # и ещё один итерируемый объект для задания диапазона\n",
    "    print(i)"
   ]
  },
  {
   "cell_type": "code",
   "execution_count": null,
   "metadata": {
    "pycharm": {
     "is_executing": false
    }
   },
   "outputs": [],
   "source": [
    "for i in 5:  # будет вызвана ошибка\n",
    "    pass"
   ]
  },
  {
   "cell_type": "markdown",
   "metadata": {},
   "source": [
    "## Итератор и итерируемый объект"
   ]
  },
  {
   "cell_type": "markdown",
   "metadata": {},
   "source": [
    "**Итерируемые объекты** – это любой объект, от которого встроенная функция `iter()` может получить итератор.\n",
    "\n",
    "**Итератор** – это объект, который возвращает свои элементы по одному за раз при обращении к нему встроенной функцией `next()`"
   ]
  },
  {
   "cell_type": "markdown",
   "metadata": {},
   "source": [
    "Для работы с итераторами в языке есть 2 встроенные функции:\n",
    "- `iter(some_object)` – получает итератор итерируемого объекта\n",
    "- `next(some_iterator)` – получает следующий элемент последовательности"
   ]
  },
  {
   "cell_type": "markdown",
   "metadata": {},
   "source": [
    "От `int` нельзя получить итератор"
   ]
  },
  {
   "cell_type": "code",
   "execution_count": null,
   "metadata": {},
   "outputs": [],
   "source": [
    "iter(5)  # TypeError: 'int' object is not iterable"
   ]
  },
  {
   "cell_type": "markdown",
   "metadata": {},
   "source": [
    "В качестве примера возьмем строку и получим от неё итератор"
   ]
  },
  {
   "cell_type": "code",
   "execution_count": null,
   "metadata": {},
   "outputs": [],
   "source": [
    "str_ = \"my tst\"  # итерируемый объект\n",
    "str_iter = iter(str_)  # итератор\n",
    "\n",
    "print(type(str_))  # <class 'str'>\n",
    "print(type(str_iter))  # <class 'str_iterator'>"
   ]
  },
  {
   "cell_type": "markdown",
   "metadata": {},
   "source": [
    "Получим первый элемент строки"
   ]
  },
  {
   "cell_type": "code",
   "execution_count": null,
   "metadata": {},
   "outputs": [],
   "source": [
    "print(next(str_iter))  # m"
   ]
  },
  {
   "cell_type": "code",
   "execution_count": null,
   "metadata": {},
   "outputs": [],
   "source": [
    "# Получим ещё несколько элементов последовательности\n",
    "print(next(str_iter))  # y\n",
    "print(next(str_iter))  # ''\n",
    "print(next(str_iter))  # t\n",
    "print(next(str_iter))  # s\n",
    "print(next(str_iter))  # t"
   ]
  },
  {
   "cell_type": "markdown",
   "metadata": {},
   "source": [
    "Как вы думаете, что будет происходить, когда последовательность закончится?"
   ]
  },
  {
   "cell_type": "code",
   "execution_count": null,
   "metadata": {},
   "outputs": [],
   "source": [
    "# Проверить, что будет происходить после окончания последовательности\n",
    "print(next(str_iter))"
   ]
  },
  {
   "cell_type": "markdown",
   "metadata": {},
   "source": [
    "Особенность итераторов в том, что нельзя перепрыгнуть через несколько элементов. Все элементы получаются последовательно.  \n",
    "Так же нельзя вернуться назад, только создать новый итератор."
   ]
  },
  {
   "cell_type": "code",
   "execution_count": null,
   "metadata": {},
   "outputs": [],
   "source": [
    "list_num = [1, 2, 3, 4, 5]\n",
    "iter_num = iter(list_num)  # получить итератор\n",
    "\n",
    "def get_item(iter_, i):\n",
    "    \"\"\"Вспомогательная функция, которая возвращает i-ый элемент\"\"\"\n",
    "    current_value = None\n",
    "    for _ in range(i):\n",
    "        current_value = next(iter_)\n",
    "    \n",
    "    return current_value\n",
    "\n",
    "# получить второй элемент \n",
    "print(get_item(iter_num, 2))  # 2\n",
    "\n",
    "# получить первый элемент \n",
    "print(get_item(iter_num, 1))  # 3"
   ]
  },
  {
   "cell_type": "markdown",
   "metadata": {},
   "source": [
    "Вместо того чтобы получить первый элемент, мы получили третий, потому что при получении элементов работали с одним и тем же итератором. И суммарно выполнили 3 раза функцию `next()`.  \n",
    "\n",
    "Чтобы получить первый элемент, нужно создать новый итератор"
   ]
  },
  {
   "cell_type": "code",
   "execution_count": null,
   "metadata": {},
   "outputs": [],
   "source": [
    "iter_num = iter(list_num)\n",
    "print(get_item(iter_num, 2))  # 2\n",
    "\n",
    "iter_num = iter(list_num)\n",
    "print(get_item(iter_num, 1))  # 1"
   ]
  },
  {
   "cell_type": "markdown",
   "metadata": {},
   "source": [
    "## Цикл for"
   ]
  },
  {
   "cell_type": "markdown",
   "metadata": {},
   "source": [
    "Итого, логика работы с итераторами в языке Python следующая:\n",
    "1. Получаем итератор с помощью `iter(iterable_object)`\n",
    "2. Вызываем много раз `next(iterator)`\n",
    "3. Когда получим `StopIteration` – прекращаем работу\n",
    "\n",
    "---"
   ]
  },
  {
   "cell_type": "code",
   "execution_count": null,
   "metadata": {},
   "outputs": [],
   "source": [
    "my_list = [1, (43, 26), \"test\", [\"end\"]]\n",
    "\n",
    "my_list_iter = iter(my_list)  # создаем объект итератор\n",
    "while True:\n",
    "    try:\n",
    "        print(next(my_list_iter))  # берем следующий элемент\n",
    "    except StopIteration:  # как только элементы в последовательности закончатся будет вызвано исключение\n",
    "        break\n",
    "\n",
    "print(\"Итератор закончился\")"
   ]
  },
  {
   "cell_type": "markdown",
   "metadata": {},
   "source": [
    "Чтобы каждый раз не писать безобразие представленое выше в Python это всё собрано в конструкцию под названнием цикл `for`"
   ]
  },
  {
   "cell_type": "code",
   "execution_count": null,
   "metadata": {},
   "outputs": [],
   "source": [
    "my_list = [1, (43, 26), \"test\", [\"end\"]]\n",
    "\n",
    "for item in my_list:\n",
    "    print(item)\n",
    "    \n",
    "print(\"Итератор закончился\")"
   ]
  },
  {
   "cell_type": "markdown",
   "metadata": {},
   "source": [
    "### Итог: \n",
    "\n",
    "Цикл `for` – это всего лишь обертка над итераторами"
   ]
  },
  {
   "cell_type": "markdown",
   "metadata": {},
   "source": [
    "В отличие от других языков программирования, где для цикла `for` нужно использовать условие для остановки, в Python число шагов цикла ограничено длиной последовательности  \n",
    "\n",
    "**C/C++/Java**\n",
    "```c\n",
    "for (int i = 0; i < 10; i++):\n",
    "    ...\n",
    "```\n",
    "\n",
    "**Python**\n",
    "```python\n",
    "for i in range(10):\n",
    "    pass\n",
    "```"
   ]
  },
  {
   "cell_type": "markdown",
   "metadata": {},
   "source": [
    "---\n",
    "#### Примечание\n",
    "В дальнейшем при создании своего объекта вы можете реализовать свойство итерируемости с помощью следующих методов:\n",
    "- `__iter__()` – возвращает итератор\n",
    "- `__next__()` – возвращает элемент последовательности\n",
    "\n",
    "**Подробнее**: см. следующий курс PY200, про ООП (либо доп. литературу)\n",
    "\n",
    "---"
   ]
  },
  {
   "cell_type": "code",
   "execution_count": null,
   "metadata": {},
   "outputs": [],
   "source": [
    "# Что будет выведено?\n",
    "\n",
    "range_ = range(3)  # 0, 1, 2\n",
    "\n",
    "print(next(iter(range_)))\n",
    "print(next(iter(range_)))\n",
    "print(next(iter(range_)))"
   ]
  },
  {
   "cell_type": "markdown",
   "metadata": {},
   "source": [
    "# Itertools\n",
    "**itertools** – модуль, в котором реализованы некоторые дополнительные полезные итерируемые объекты.  \n",
    "Модуль входит в состав стандартной библиотеки\n",
    "\n",
    "Вместо того чтобы делать \"велосипеды\", гуглите, гуглите и гуглите!\n",
    "Обязательно пользуйтесь документацией: \n",
    "- [itertools](https://docs.python.org/3/library/itertools.html)\n",
    "- [примеры на русском](https://pythonworld.ru/moduli/modul-itertools.html)"
   ]
  },
  {
   "cell_type": "markdown",
   "metadata": {},
   "source": [
    "```python\n",
    "itertools.count(start, step) – бесконечная арифметическая прогрессия с первым членом start и шагом step\n",
    "```\n",
    "[ссылка](https://docs.python.org/3/library/itertools.html#itertools.count)"
   ]
  },
  {
   "cell_type": "markdown",
   "metadata": {},
   "source": [
    "```python\n",
    "itertools.cycle(iter_obj) – возвращает по одному значению из последовательности, повторенной бесконечное число раз.\n",
    "```\n",
    "[ссылка](https://docs.python.org/3/library/itertools.html#itertools.cycle)"
   ]
  },
  {
   "cell_type": "markdown",
   "metadata": {},
   "source": [
    "```python\n",
    "itertools.repeat(elem) – возвращает один и тот же элемент бесконечное число раз либо указаннное количество раз.\n",
    "```\n",
    "\n",
    "[ссылка](https://docs.python.org/3/library/itertools.html#itertools.repeat)"
   ]
  },
  {
   "cell_type": "markdown",
   "metadata": {},
   "source": [
    "---\n",
    "Для начала работы импортируем модуль `itertools` из встроенной библиотеки"
   ]
  },
  {
   "cell_type": "code",
   "execution_count": null,
   "metadata": {},
   "outputs": [],
   "source": [
    "import itertools"
   ]
  },
  {
   "cell_type": "markdown",
   "metadata": {},
   "source": [
    "### count"
   ]
  },
  {
   "cell_type": "code",
   "execution_count": null,
   "metadata": {},
   "outputs": [],
   "source": [
    "# бесконечная арифметическая прогрессия начиная с 10 с шагом 5\n",
    "for i in itertools.count(10, 5):\n",
    "    print(i)\n",
    "    if i > 100:\n",
    "        break"
   ]
  },
  {
   "cell_type": "markdown",
   "metadata": {},
   "source": [
    "### cycle"
   ]
  },
  {
   "cell_type": "code",
   "execution_count": null,
   "metadata": {
    "scrolled": true
   },
   "outputs": [],
   "source": [
    "# считалочка\n",
    "counter = \"Раз, два, три, четыре, пять, вышел зайчик погулять\".split()\n",
    "print(counter)"
   ]
  },
  {
   "cell_type": "code",
   "execution_count": null,
   "metadata": {},
   "outputs": [],
   "source": [
    "players = [\n",
    "    'Миша',\n",
    "    'Петя',\n",
    "    'Вася'\n",
    "]\n",
    "\n",
    "iter_players = itertools.cycle(players)  # Бесконечный итератор, где игроки будут бесконечно перебираться\n",
    "winer = None\n",
    "for _ in counter:\n",
    "    winer = next(iter_players)  # на каждом шаге считалочки получаем нового игрока\n",
    "\n",
    "print(f\"Победил игрок {winer}\")"
   ]
  },
  {
   "cell_type": "markdown",
   "metadata": {},
   "source": [
    "### repeat"
   ]
  },
  {
   "cell_type": "code",
   "execution_count": null,
   "metadata": {},
   "outputs": [],
   "source": [
    "for str_ in itertools.repeat('Hello, World!!!', 5):\n",
    "    print(str_)"
   ]
  }
 ],
 "metadata": {
  "kernelspec": {
   "display_name": "Python 3",
   "language": "python",
   "name": "python3"
  },
  "language_info": {
   "codemirror_mode": {
    "name": "ipython",
    "version": 3
   },
   "file_extension": ".py",
   "mimetype": "text/x-python",
   "name": "python",
   "nbconvert_exporter": "python",
   "pygments_lexer": "ipython3",
   "version": "3.7.6"
  },
  "pycharm": {
   "stem_cell": {
    "cell_type": "raw",
    "metadata": {
     "collapsed": false
    },
    "source": []
   }
  }
 },
 "nbformat": 4,
 "nbformat_minor": 2
}
