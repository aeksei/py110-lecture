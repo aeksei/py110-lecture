{
  "cells": [
    {
      "metadata": {},
      "cell_type": "markdown",
      "source": "# Декораторы"
    },
    {
      "metadata": {},
      "cell_type": "markdown",
      "source": "## Замыкание функций\nВспомним, что такое функции высших порядков.\n\n**Функция высшего порядка** — в программировании функция, принимающая в качестве аргументов другие функции или возвращающая другую функцию в качестве результата. Основная идея состоит в том, что функции имеют тот же статус, что и другие объекты данных.  \n\nМы можем передавать функции как параметры...\n```python\ndef my_func(inside_func):\n    ...\n    inside_func()  # Вызов функции принятой в качестве аргумента\n    ...\n```  \n\n... можем возвращать как результат ...\n```python\ndef a():\n    def b(): \n        pass\n    return b\n```\n... и присваивать их другим переменным\n```python\ndef a(): \n    pass\n\nb = a\nb()\n```\n\nСделаем функцию, которая будет выполнять принимаемую функцию дважды"
    },
    {
      "metadata": {
        "trusted": true
      },
      "cell_type": "code",
      "source": "def twice_func(inside_func):\n    inside_func()\n    inside_func()",
      "execution_count": 2,
      "outputs": []
    },
    {
      "metadata": {
        "trusted": true
      },
      "cell_type": "code",
      "source": "def hello():\n    print(\"Hello\")\n    \ntest = twice_func(hello)",
      "execution_count": 5,
      "outputs": [
        {
          "output_type": "stream",
          "text": "Hello\nHello\n",
          "name": "stdout"
        }
      ]
    },
    {
      "metadata": {},
      "cell_type": "markdown",
      "source": "Видим что на момент инициализации `twice_func` сразу происходит выполнение функци `hello`.  \nДавайте подумаем как можно решить этот вопрос, чтобы мы могли присвоить результат переменной test и после вызывать нашу функцию, которую мы передаем в качестве аргумента?"
    },
    {
      "metadata": {
        "trusted": true
      },
      "cell_type": "markdown",
      "source": "---\nТеперь перейдем к замыканию функций. Разберем что это такое.  \n**Замыкание** в программировании — функция, в теле которой присутствуют ссылки на переменные, объявленные вне тела этой функции в окружающем коде и не являющиеся её параметрами. Говоря другим языком, замыкание — функция, которая ссылается на свободные переменные в своём контексте. Не путайте это с глобальными переменными, с котороми может работать функция.\n"
    },
    {
      "metadata": {
        "trusted": true
      },
      "cell_type": "code",
      "source": "# Реализация с помощью именованных функций:\ndef make_adder(x):\n    def adder(n):\n        return x + n # захват переменной \"x\" из внешнего контекста\n    return adder",
      "execution_count": 9,
      "outputs": []
    },
    {
      "metadata": {
        "trusted": true
      },
      "cell_type": "code",
      "source": "# функция, которая будет к любому числу прибавлять пятёрку\nadd_5 = make_adder(5)\nprint(add_5)",
      "execution_count": 10,
      "outputs": [
        {
          "output_type": "stream",
          "text": "<function make_adder.<locals>.adder at 0x7f8e8a241a60>\n",
          "name": "stdout"
        }
      ]
    },
    {
      "metadata": {
        "trusted": true
      },
      "cell_type": "code",
      "source": "print(add_5(10))\nprint(add_5(100))  ",
      "execution_count": 11,
      "outputs": [
        {
          "output_type": "stream",
          "text": "15\n105\n",
          "name": "stdout"
        }
      ]
    },
    {
      "metadata": {
        "trusted": true
      },
      "cell_type": "code",
      "source": "# То же самое, но через безымянные функции:\nmake_adder = lambda x: (\n    lambda n: x + n\n)\n\nf = make_adder(10)\nprint(f(5))  # 15\nprint(f(-1))  # 9",
      "execution_count": null,
      "outputs": []
    },
    {
      "metadata": {
        "trusted": true
      },
      "cell_type": "code",
      "source": "# пример с функцией которая, возвращает функцию, умножающую на произвольное число\ndef get_pow(n):\n    def pow_(a):\n        return a ** n\n\n    def other_pow(b):\n        return b * n\n\n    return pow_, other_pow",
      "execution_count": null,
      "outputs": []
    },
    {
      "metadata": {},
      "cell_type": "markdown",
      "source": "# Декораторы\nВторой паттерн после итератора, который мы изучим с вами это паттерн декоратор.  \n\nПаттерн **декоратор** предназначен для подключения дополнительного поведения к основному объекту, которое будет выполняться до, после или вместо поведения основного объекта.  \n\nНапример, хотим включать таймер до вызова функции и выключать после, а потом – выдавать результат."
    },
    {
      "metadata": {
        "trusted": true
      },
      "cell_type": "code",
      "source": "def my_decorator(a_function_to_decorate):\n    # Здесь мы определяем новую функцию – «обертку». Она нам нужна, чтобы выполнять\n    # каждый раз при вызове оригинальной функции, а не только один раз\n    def wrapper():\n        # здесь поместим код, которые будет выполняться до вызова, потом вызов\n        # оригинальной функции, потом код после вызова\n        print(\"Я буду выполнен до основного вызова!\")\n        \n        result = a_function_to_decorate()  # не забываем вернуть значение исходной функции\n        \n        print(\"Я буду выполнен после основного вызова!\")\n        return result\n    return wrapper",
      "execution_count": 13,
      "outputs": []
    },
    {
      "metadata": {
        "trusted": true
      },
      "cell_type": "code",
      "source": "def my_function():\n    print(\"Я – оборачиваемая функция!\")\n    return 0\n\nmy_function = my_decorator(my_function)  # замыкание",
      "execution_count": 14,
      "outputs": []
    },
    {
      "metadata": {
        "trusted": true
      },
      "cell_type": "code",
      "source": "result = my_function()",
      "execution_count": 16,
      "outputs": [
        {
          "output_type": "stream",
          "text": "Я буду выполнен до основного вызова!\nЯ – оборачиваемая функция!\nЯ буду выполнен после основного вызова!\n0\n",
          "name": "stdout"
        }
      ]
    },
    {
      "metadata": {},
      "cell_type": "markdown",
      "source": "Что теперь будет в переменной `my_function`?  \nФункция `my_function`, декоратор `my_decorator` или может быть `wrapper`?"
    },
    {
      "metadata": {
        "trusted": true
      },
      "cell_type": "code",
      "source": "print(my_function)",
      "execution_count": 17,
      "outputs": [
        {
          "output_type": "stream",
          "text": "<function my_decorator.<locals>.wrapper at 0x7f8e8a330598>\n",
          "name": "stdout"
        }
      ]
    },
    {
      "metadata": {
        "trusted": true
      },
      "cell_type": "code",
      "source": "print(my_function())",
      "execution_count": 18,
      "outputs": [
        {
          "output_type": "stream",
          "text": "Я буду выполнен до основного вызова!\nЯ – оборачиваемая функция!\nЯ буду выполнен после основного вызова!\n0\n",
          "name": "stdout"
        }
      ]
    },
    {
      "metadata": {},
      "cell_type": "markdown",
      "source": "И так будет ~~с каждым~~ при каждом вызове, а не только с на момент инициализации. Одним и тем же декоратором можно обвернуть любую функцию."
    },
    {
      "metadata": {},
      "cell_type": "markdown",
      "source": "---\n### Пример декоратора\nДавайте реализуем этот паттерн на Python. Поведение декоратора должно выполняться каждый раз, когда вызывается оригинальная функция.  \n\nНам понадобится функция, которая будет возвращать функцию, внутри которой будет выполняться дополнительное и основное поведение."
    },
    {
      "metadata": {
        "trusted": true
      },
      "cell_type": "code",
      "source": "# пример с посчетом времени выполнения функции\nimport time\n\n\ndef decorator_time(fn):\n    def wrapper(*args, **kwags):\n        print(f\"Запустилась функция {fn}\")\n        t0 = time.time()\n        result = fn(*args, **kwags)\n        dt = time.time() - t0\n        print(f\"Функция выполнилась. Время: {dt:.10f}\")\n        return result\n    return wrapper\n\n\ndef pow_2():\n    return 10000000 ** 2\n\n\ndef in_build_pow():\n    return pow(10000000, 2)\n\n\npow_2 = decorator_time(pow_2)\nin_build_pow = decorator_time(in_build_pow)\n\npow_2()\nin_build_pow()",
      "execution_count": 32,
      "outputs": [
        {
          "output_type": "stream",
          "text": "Запустилась функция <function pow_2 at 0x7f8e8a241b70>\nФункция выполнилась. Время: 0.0000009537\nЗапустилась функция <function in_build_pow at 0x7f8e8a241f28>\nФункция выполнилась. Время: 0.0000021458\n",
          "name": "stdout"
        },
        {
          "output_type": "execute_result",
          "execution_count": 32,
          "data": {
            "text/plain": "100000000000000"
          },
          "metadata": {}
        }
      ]
    },
    {
      "metadata": {},
      "cell_type": "markdown",
      "source": "---\n### Синтаксический сахар\nДанная конструкция была настолько часто используема в языке, что ее оформили в качестве синтаксической конструкции\n\n```python\n@my_decorator\ndef my_function():\n    pass\n```\n\nПри этом будет происходить все то же самое, аналогичное\n```python\nmy_function = my_decorator(my_function)\n```"
    },
    {
      "metadata": {
        "trusted": true
      },
      "cell_type": "code",
      "source": "# объявляем декоратор\ndef do_it_twice(func):\n    print(\"Я выполняюсь на момент инициализации\")\n    def wrapper():\n        func()\n        func()\n    return wrapper",
      "execution_count": 22,
      "outputs": []
    },
    {
      "metadata": {
        "trusted": true
      },
      "cell_type": "code",
      "source": "# декорируем функцию\n@do_it_twice\ndef say_whee():\n    print(\"Whee!\")",
      "execution_count": 23,
      "outputs": [
        {
          "output_type": "stream",
          "text": "Я выполняюсь на момент инициализации\n",
          "name": "stdout"
        }
      ]
    },
    {
      "metadata": {
        "trusted": true
      },
      "cell_type": "code",
      "source": "# вызываем задекорированую функцию\nsay_whee()",
      "execution_count": 24,
      "outputs": [
        {
          "output_type": "stream",
          "text": "Whee!\nWhee!\n",
          "name": "stdout"
        }
      ]
    },
    {
      "metadata": {
        "trusted": true
      },
      "cell_type": "code",
      "source": "# какая функция скрывается под переменной say_whee??\nprint(say_whee)",
      "execution_count": 25,
      "outputs": [
        {
          "output_type": "stream",
          "text": "<function do_it_twice.<locals>.wrapper at 0x7f8e8aa4a730>\n",
          "name": "stdout"
        }
      ]
    },
    {
      "metadata": {},
      "cell_type": "markdown",
      "source": "---\n### Передача аргументов в декорируемую функцию\nДо этого мы с вами декорировали только функции без параметров.  \nА как их передавать?"
    },
    {
      "metadata": {},
      "cell_type": "markdown",
      "source": "Попробуем задекорировать функцию, которая умеет принимать параметры"
    },
    {
      "metadata": {
        "trusted": true
      },
      "cell_type": "code",
      "source": "def do_it_twice(func):\n    def wrapper():\n        func(arg)\n        func(arg)\n    return wrapper\n\n@do_it_twice\ndef say_word(word):\n    print(word)\n\nsay_word(\"Oo!!!\")",
      "execution_count": 26,
      "outputs": [
        {
          "output_type": "error",
          "ename": "TypeError",
          "evalue": "wrapper() takes 0 positional arguments but 1 was given",
          "traceback": [
            "\u001b[0;31m---------------------------------------------------------------------------\u001b[0m",
            "\u001b[0;31mTypeError\u001b[0m                                 Traceback (most recent call last)",
            "\u001b[0;32m<ipython-input-26-22f4f0d6a2d4>\u001b[0m in \u001b[0;36m<module>\u001b[0;34m\u001b[0m\n\u001b[1;32m      9\u001b[0m     \u001b[0mprint\u001b[0m\u001b[0;34m(\u001b[0m\u001b[0mword\u001b[0m\u001b[0;34m)\u001b[0m\u001b[0;34m\u001b[0m\u001b[0m\n\u001b[1;32m     10\u001b[0m \u001b[0;34m\u001b[0m\u001b[0m\n\u001b[0;32m---> 11\u001b[0;31m \u001b[0msay_word\u001b[0m\u001b[0;34m(\u001b[0m\u001b[0;34m\"Oo!!!\"\u001b[0m\u001b[0;34m)\u001b[0m\u001b[0;34m\u001b[0m\u001b[0m\n\u001b[0m",
            "\u001b[0;31mTypeError\u001b[0m: wrapper() takes 0 positional arguments but 1 was given"
          ]
        }
      ]
    },
    {
      "metadata": {},
      "cell_type": "markdown",
      "source": "Напомним, что декораторы – это лишь обертка над\n```python\nmy_fun = my_decorator(my_fun)\n```\n\nИ каждый следующий вызов `my_fun` – это вызов `wrapper`. Следовательно, `wrapper` должен уметь принимать параметры и передавать их в вызываемую функцию."
    },
    {
      "metadata": {
        "trusted": true
      },
      "cell_type": "code",
      "source": "# декоратор, в котором встроенная функция умеет принимать аргументы\ndef do_it_twice(func):\n    def wrapper(arg):\n        func(arg)\n        func(arg)\n    return wrapper\n\n@do_it_twice\ndef say_word(word):\n    print(word)\n\nsay_word(\"Oo!!!\")",
      "execution_count": 27,
      "outputs": [
        {
          "output_type": "stream",
          "text": "Oo!!!\nOo!!!\n",
          "name": "stdout"
        }
      ]
    },
    {
      "metadata": {
        "trusted": true
      },
      "cell_type": "code",
      "source": "say_word(\"Hello!!\")",
      "execution_count": 28,
      "outputs": [
        {
          "output_type": "stream",
          "text": "Hello!!\nHello!!\n",
          "name": "stdout"
        }
      ]
    },
    {
      "metadata": {},
      "cell_type": "markdown",
      "source": "---\n### Передача переменного количества аргументов в декорируемую функцию\nЛогичный вопрос – а как передавать параметры, если мы не знаем, что будет вызвано?"
    },
    {
      "metadata": {
        "trusted": true
      },
      "cell_type": "code",
      "source": "def do_it_twice(func):\n    def wrapper(*args, **kwargs):\n        func(*args, **kwargs)\n        func(*args, **kwargs)\n    return wrapper\n\n@do_it_twice\ndef say_word(word):\n    print(word)\n    \n@do_it_twice\ndef say_two_words(word1, word2):\n    print(f\"{word1}, {word2}\")",
      "execution_count": null,
      "outputs": []
    },
    {
      "metadata": {
        "trusted": true
      },
      "cell_type": "code",
      "source": "say_word(\"Hello\")",
      "execution_count": null,
      "outputs": []
    },
    {
      "metadata": {
        "trusted": true
      },
      "cell_type": "code",
      "source": "say_two_words(\"Hello\", \"World\")",
      "execution_count": null,
      "outputs": []
    },
    {
      "metadata": {},
      "cell_type": "markdown",
      "source": "Чтобы решить этот вопрос нужно использовать **\\*args** и **\\*\\*kwargs**. Для тех кто захочет освежить данную тему в памяти или подробнее её изучить, можно воспользоваться следующим [материалом](https://habr.com/ru/company/ruvds/blog/482464/)"
    },
    {
      "metadata": {},
      "cell_type": "markdown",
      "source": "### Порядок декорирования\nПорядок декорирования важен!\n\nТ.к. декоратор – синтаксическая обертка, при разном порядке декораторов будут разные результаты обертывания\n\n```python\n# Это не одно и тоже\nmy_fun = wrap1(wrap2(my_fun))\nmy_fun = wrap2(wrap1(my_fun))\n```\nИли альтернативный вариант оформления\n```python\n@wrap1\n@wrap2\ndef my_fun():\n    pass\n\n# функция будет иметь другое поведение\n@wrap2\n@wrap1\ndef my_fun():\n    pass\n```"
    },
    {
      "metadata": {},
      "cell_type": "markdown",
      "source": "---\nПодведем промежуточный итог по декораторам  \n\nПаттерн декоратор нужен для того, чтобы добавлять дополнительное поведение вызываемой функции  \n\n#### Основной шаблон выглядит вот так:\n```python\ndef my_decorator(fn):\n    print(\"Этот код будет выведен в момент декорирования функции\")\n    def wrapper(*args, **kwargs):\n        print('Этот код будет выполняться перед каждым вызовом функции')\n        result = fn(*args, **kwargs)\n        print('Этот код будет выполняться после каждого вызова функции')\n        return result\n    return wrapper\n```"
    },
    {
      "metadata": {},
      "cell_type": "markdown",
      "source": "---\n### Фабрика декораторов\nА теперь представьте, что мы хотим создать декоратор, который печатает какое-нибудь слово до вызова функции и после.  \nА слово хотим задавать в момент декорирования\n\n```python\n@printword('Whee!')\ndef tes(): \n    pass\n```\n\nГде можно указать этот параметр?"
    },
    {
      "metadata": {},
      "cell_type": "markdown",
      "source": "Давайте возьмем шаблон и попробуем куда-нибудь вставить  этот параметр.\n```python\ndef my_decorator(fn):\n    def wrapper(*args, **kwargs):\n        result = fn(*args, **kwargs)\n        return result\n    return wrapper\n```\n\nВ `wrapper` нельзя – там аргументы вызываемой функции.  \nВ `my_decorator` нельзя – он принимает на вход единственный аргумент – функцию, которую обертывает.  \nЧто делать? (подсказка - замыкание функций)"
    },
    {
      "metadata": {
        "trusted": true
      },
      "cell_type": "code",
      "source": "def my_decorator(fn, arg):\n    def wrapper(*args, **kwargs):\n        result = fn(*args, **kwargs)\n        return result\n    return wrapper",
      "execution_count": null,
      "outputs": []
    },
    {
      "metadata": {},
      "cell_type": "markdown",
      "source": "Решение – давайте создадим фабрику декораторов – объект, который будет возвращать декоратор."
    },
    {
      "metadata": {
        "trusted": true
      },
      "cell_type": "code",
      "source": "def decorator_maker(word):\n    def my_decorator(fun):\n        def wrapper(*ar, **kw):\n            print(word)\n            print('---')\n            res = fun(*ar, **kw)\n            print('---')\n            print(word)\n            return res\n        return wrapper\n    return my_decorator\n\n@decorator_maker('Hi!')\ndef f():\n    print('Hello')\n\nf()",
      "execution_count": 38,
      "outputs": [
        {
          "output_type": "stream",
          "text": "Hi!\n---\nHello\n---\nHi!\n",
          "name": "stdout"
        }
      ]
    },
    {
      "metadata": {
        "trusted": true
      },
      "cell_type": "code",
      "source": "@decorator_maker('ololo')\ndef f1():\n    print('Hello')\n\nf1()",
      "execution_count": 40,
      "outputs": [
        {
          "output_type": "stream",
          "text": "ololo\n---\nHello\n---\nololo\n",
          "name": "stdout"
        }
      ]
    },
    {
      "metadata": {},
      "cell_type": "markdown",
      "source": "В чем отличие от того, что мы разбирали прежде?  \n\nСледует отличать указание декоратора и вызов декоратора\n```python\n@my_decor\ndef f():\n    pass\n```\nне идентично \n```python\n@my_decor()\ndef f()\n    pass\n```\nВ первом случае вы используете декоратор, во втором – вызывается «создатель» декораторов, который возвращает декоратор"
    },
    {
      "metadata": {
        "trusted": true
      },
      "cell_type": "code",
      "source": "",
      "execution_count": null,
      "outputs": []
    },
    {
      "metadata": {},
      "cell_type": "markdown",
      "source": "---\nХотим сделать декоратор, который будет взависимости от указанного языка приветствовать пользователя"
    },
    {
      "metadata": {
        "trusted": true
      },
      "cell_type": "code",
      "source": "def welcome(language):  # фабрика декораторов\n    welcome_word = {\"en\": \"Hello!\", \n                    \"ru\": \"Привет!\"}\n    def decorator(fn):  # декоратор\n        def wrapper(*args, **kwargs):  # задекорированная функция\n            print(welcome_word[language])  # приветствие в зависимости от указанного языка в фабрике декораторов\n            fn(*args, **kwargs)  # исходная функция\n        return wrapper\n    return decorator\n\n",
      "execution_count": 53,
      "outputs": []
    },
    {
      "metadata": {
        "trusted": true
      },
      "cell_type": "code",
      "source": "# welcome('ru')(my_func_ru)()\n# welcome -> decorator -> wrapper -> fn\n@welcome('ru')\ndef my_func_ru():\n    print(\"Как дела?\")\n    \nmy_func_ru()",
      "execution_count": 56,
      "outputs": [
        {
          "output_type": "stream",
          "text": "Привет!\nКак дела?\n",
          "name": "stdout"
        }
      ]
    },
    {
      "metadata": {
        "trusted": true
      },
      "cell_type": "code",
      "source": "@welcome('en')\ndef my_func_en():\n    print(\"How are you?\")\n    \nmy_func_en()\nprint(my_func_en)",
      "execution_count": 60,
      "outputs": [
        {
          "output_type": "stream",
          "text": "Hello!\nHow are you?\n<function welcome.<locals>.decorator.<locals>.wrapper at 0x7f8e8a267b70>\n",
          "name": "stdout"
        }
      ]
    },
    {
      "metadata": {
        "trusted": true
      },
      "cell_type": "code",
      "source": "@welcome\ndef my_func():\n    print(\"How are you?\")\n    \nprint(my_func)",
      "execution_count": 59,
      "outputs": [
        {
          "output_type": "stream",
          "text": "<function welcome.<locals>.decorator at 0x7f8e8a2677b8>\n",
          "name": "stdout"
        }
      ]
    },
    {
      "metadata": {},
      "cell_type": "markdown",
      "source": "### Итоги\nПодведем черту под темой декораторов.\n\n- Декораторы добавляют дополнительное поведение функции\n- Декораторы – вызовы дополнительных функций, поэтому они немного замедляют ваш код\n- Порядок декорирования важен\n- Декоратор вызывается один раз, переданные в декоратор параметры изменить больше нельзя.\n- Если хотите использовать декораторы, с настраиваемыми параметрами используйте \"фабрику декораторов\" "
    },
    {
      "metadata": {},
      "cell_type": "markdown",
      "source": "### Где используются декораторы?\n\n1. В самом языке есть @classmethod, @staticmethod и @property – подробнее в курсе ООП\n2. Модуль functools:\n - @functools.lru_cache\n - @functools.wraps\n3. Flask\n - @app.route('/api/v1/vm', methods=['POST'])\n4. Django  \n..."
    }
  ],
  "metadata": {
    "kernelspec": {
      "name": "python36",
      "display_name": "Python 3.6",
      "language": "python"
    },
    "language_info": {
      "mimetype": "text/x-python",
      "nbconvert_exporter": "python",
      "name": "python",
      "pygments_lexer": "ipython3",
      "version": "3.6.6",
      "file_extension": ".py",
      "codemirror_mode": {
        "version": 3,
        "name": "ipython"
      }
    }
  },
  "nbformat": 4,
  "nbformat_minor": 1
}