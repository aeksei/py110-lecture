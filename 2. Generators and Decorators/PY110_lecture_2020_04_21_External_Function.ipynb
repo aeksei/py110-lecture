{
  "cells": [
    {
      "metadata": {},
      "cell_type": "markdown",
      "source": "# Расширенные возможности использования функций"
    },
    {
      "metadata": {},
      "cell_type": "markdown",
      "source": "Итак продолжим разбор функционального программирования и разберем ещё две полезные функции, которые позволят упростить ваш код это функции `all()` и `any()`. Данные функции схожи с функциями `map` и `filter` и к каждому элементу последовательности применяют проверку какого-либо условия, и возвращяют результат в виде одного значения `True` или `False`."
    },
    {
      "metadata": {},
      "cell_type": "markdown",
      "source": "---\n## all\nФункция `all()` возвращает `True`, если все элементы истинные (или объект пустой). В качестве аргумента функция принимает любой итерируемый объект.\n```python\n\ndef all(sequence):\n    for elem in sequence:\n        if not elem:\n            return False\n    return True\n```"
    },
    {
      "metadata": {},
      "cell_type": "markdown",
      "source": "Каждый элемент приводится к типу `bool`, и результат выполения можно сравнить с перемножением всех элементов. И если среди них попался хоть один `False`, ноль другими словами, то весь результат обнуляется."
    },
    {
      "metadata": {
        "trusted": true
      },
      "cell_type": "code",
      "source": "print(all([1, 2, 3]))  # [True, True, True]\nprint(all([0, 2, 3]))  # [False, True, True]",
      "execution_count": 1,
      "outputs": [
        {
          "output_type": "stream",
          "text": "True\nFalse\n",
          "name": "stdout"
        }
      ]
    },
    {
      "metadata": {},
      "cell_type": "markdown",
      "source": "Особый случай, который следует запомнить - `all()` от любого пустого объекта `True`"
    },
    {
      "metadata": {
        "trusted": true
      },
      "cell_type": "code",
      "source": "print(all(''))\nprint(all([]))\nprint(all({}))",
      "execution_count": 2,
      "outputs": [
        {
          "output_type": "stream",
          "text": "True\nTrue\nTrue\n",
          "name": "stdout"
        }
      ]
    },
    {
      "metadata": {},
      "cell_type": "markdown",
      "source": "---\n## any\nФункция `any()` возвращает `False`, когда все объекты последовательности ложные (или объект пустой)\n```python\n\ndef any(sequence):\n    for elem in sequence:\n        if elem:\n            return True\n    return False\n```"
    },
    {
      "metadata": {},
      "cell_type": "markdown",
      "source": "Аналогию данной функции можно провести со сложением. И если все элементы `False` - равны нулю, то весь результат тоже ноль. В противном случае `True`"
    },
    {
      "metadata": {
        "trusted": true
      },
      "cell_type": "code",
      "source": "print(any([0, \"\", {}, set(), []]))\nprint(any([0, \"\", {}, set(), [123]]))",
      "execution_count": 4,
      "outputs": [
        {
          "output_type": "stream",
          "text": "False\nTrue\n",
          "name": "stdout"
        }
      ]
    },
    {
      "metadata": {},
      "cell_type": "markdown",
      "source": "Особый случай, который следует запомнить - `any()` от любого пустого объекта `False`"
    },
    {
      "metadata": {
        "trusted": true
      },
      "cell_type": "code",
      "source": "print(any(''))\nprint(any([]))\nprint(any({}))",
      "execution_count": 5,
      "outputs": [
        {
          "output_type": "stream",
          "text": "False\nFalse\nFalse\n",
          "name": "stdout"
        }
      ]
    },
    {
      "metadata": {},
      "cell_type": "markdown",
      "source": "---\nРассмотрим пару примеров"
    },
    {
      "metadata": {
        "trusted": true
      },
      "cell_type": "code",
      "source": "# 1. Проверка ip адреса\nip_address = '192.168.1.1'\nall(num.isdigit() for num in ip_address.split('.'))  # True",
      "execution_count": 6,
      "outputs": [
        {
          "output_type": "execute_result",
          "execution_count": 6,
          "data": {
            "text/plain": "True"
          },
          "metadata": {}
        }
      ]
    },
    {
      "metadata": {
        "trusted": true
      },
      "cell_type": "code",
      "source": "# некорректный ip\nip_address = '192.168.1.er'\nall(num.isdigit() for num in ip_address.split('.'))  # False",
      "execution_count": 7,
      "outputs": [
        {
          "output_type": "execute_result",
          "execution_count": 7,
          "data": {
            "text/plain": "False"
          },
          "metadata": {}
        }
      ]
    },
    {
      "metadata": {
        "trusted": true
      },
      "cell_type": "code",
      "source": "# 2. Содержатся ли запрещеные слова \nignore_word = ['bad_word', 'trash', 'tmp']\nword_list = ['test', 'my_first_programm', 'funny_video']\n\nany(word in ignore_word for word in word_list)  # False",
      "execution_count": 8,
      "outputs": [
        {
          "output_type": "execute_result",
          "execution_count": 8,
          "data": {
            "text/plain": "False"
          },
          "metadata": {}
        }
      ]
    },
    {
      "metadata": {
        "trusted": true
      },
      "cell_type": "code",
      "source": "# добавим запрещеное слово\nword_list = ['test', 'my_first_programm', 'funny_video', 'bad_word']\n\nany(word in ignore_word for word in word_list)  # True",
      "execution_count": 9,
      "outputs": [
        {
          "output_type": "execute_result",
          "execution_count": 9,
          "data": {
            "text/plain": "True"
          },
          "metadata": {}
        }
      ]
    },
    {
      "metadata": {},
      "cell_type": "markdown",
      "source": "---\nВспомним как работать с map"
    },
    {
      "metadata": {
        "trusted": true
      },
      "cell_type": "code",
      "source": "import random\n\n# данный список будем использовать несколько раз, поэтому используем list comprehension\nlist_num = [random.randint(-99, 100) for _ in range(100)]",
      "execution_count": 10,
      "outputs": []
    },
    {
      "metadata": {
        "trusted": true
      },
      "cell_type": "code",
      "source": "# 4. Проверить, что все числа по модулю не превышают 100\nall(n < 100 for n in map(abs, list_num))  # True",
      "execution_count": 11,
      "outputs": [
        {
          "output_type": "execute_result",
          "execution_count": 11,
          "data": {
            "text/plain": "True"
          },
          "metadata": {}
        }
      ]
    },
    {
      "metadata": {
        "trusted": true
      },
      "cell_type": "code",
      "source": "# 5. Есть ли cреди чисел отрицательные\nany(num < 0 for num in list_num)  # True",
      "execution_count": 12,
      "outputs": [
        {
          "output_type": "execute_result",
          "execution_count": 12,
          "data": {
            "text/plain": "True"
          },
          "metadata": {}
        }
      ]
    },
    {
      "metadata": {
        "trusted": true
      },
      "cell_type": "code",
      "source": "# 6. Проверить, что все числа являются целыми\ndef check_num(num):\n    return isinstance(num, int)\n\nall(map(check_num, list_num))  # True",
      "execution_count": 13,
      "outputs": [
        {
          "output_type": "execute_result",
          "execution_count": 13,
          "data": {
            "text/plain": "True"
          },
          "metadata": {}
        }
      ]
    },
    {
      "metadata": {},
      "cell_type": "markdown",
      "source": "---\n## lambda функции\n\nНа практике и в последнем задании мы с вами сталкивались с тем, что для `map` и `filter` принимают функцию, которая должна применяться к каждому элементу. Иногда встроенных функций не хватает, и приходится объявлять функцию, которая зачастую будет применена всего один раз. Но при она будет загромождать код.\n\nСпециально для таких одноразовых функций были сделаны анонимные функции. Объявляются они по ключевому слову `lambda`\n\n```python\nlambda arg1, arg2, ...: pass\n```"
    },
    {
      "metadata": {
        "trusted": true
      },
      "cell_type": "code",
      "source": "# эти две функции выполняют одно и тоже складывают два числа\ndef my_function(x1, x2):  # Верное оформление \n    return x2 + x1\n\nlambda_function = lambda x1, x2: x2 + x1  # Неверное оформление",
      "execution_count": 15,
      "outputs": []
    },
    {
      "metadata": {
        "trusted": true
      },
      "cell_type": "code",
      "source": "lambda_function(1, 5)",
      "execution_count": 16,
      "outputs": [
        {
          "output_type": "execute_result",
          "execution_count": 16,
          "data": {
            "text/plain": "6"
          },
          "metadata": {}
        }
      ]
    },
    {
      "metadata": {},
      "cell_type": "markdown",
      "source": "Lambda функции в большинстве своем предназначены для выполнения каких-либо одноразовых действий и после свое выполенения они сразу удаляются. Поэтому [не следует](https://www.python.org/dev/peps/pep-0008/#programming-recommendations) присваивать lambda функцию какой-то переменной что-бы повторно использовать её. Во время трассировки программы вам будет сложно понять, где искать функцию, чтобы проверить, что она выполняет"
    },
    {
      "metadata": {
        "trusted": true
      },
      "cell_type": "code",
      "source": "# именованая функция\nmy_function",
      "execution_count": 17,
      "outputs": [
        {
          "output_type": "execute_result",
          "execution_count": 17,
          "data": {
            "text/plain": "<function __main__.my_function(x1, x2)>"
          },
          "metadata": {}
        }
      ]
    },
    {
      "metadata": {
        "trusted": true
      },
      "cell_type": "code",
      "source": "# анонимная функция тип function\nlambda x1, x2: x2 + x1",
      "execution_count": 20,
      "outputs": [
        {
          "output_type": "execute_result",
          "execution_count": 20,
          "data": {
            "text/plain": "<function __main__.<lambda>(x1, x2=1)>"
          },
          "metadata": {}
        }
      ]
    },
    {
      "metadata": {
        "trusted": true
      },
      "cell_type": "code",
      "source": "# вторая анонимная функция\nlambda x1, x2: x2 * x1",
      "execution_count": 19,
      "outputs": [
        {
          "output_type": "execute_result",
          "execution_count": 19,
          "data": {
            "text/plain": "<function __main__.<lambda>(x1, x2)>"
          },
          "metadata": {}
        }
      ]
    },
    {
      "metadata": {},
      "cell_type": "markdown",
      "source": "Сразу после выполнения анонимная функция удаляется, и новая функция занимает место старой"
    },
    {
      "metadata": {
        "trusted": true
      },
      "cell_type": "code",
      "source": "print(lambda x1, x2: x2 + x1)\nprint(lambda x1, x2: x2 * x1)",
      "execution_count": 22,
      "outputs": [
        {
          "output_type": "stream",
          "text": "<function <lambda> at 0x7f1b08952d08>\n<function <lambda> at 0x7f1b08952d08>\n",
          "name": "stdout"
        }
      ]
    },
    {
      "metadata": {},
      "cell_type": "markdown",
      "source": "---\nАнонимные функции могут содержать в себе только одну инструкцию (выражение), которую они выполняют"
    },
    {
      "metadata": {
        "trusted": true
      },
      "cell_type": "code",
      "source": "# 7. Возвести первые 10 натуральных чисел в квадрат\nlist(map(lambda x: x ** 2, range(1, 11)))",
      "execution_count": 23,
      "outputs": [
        {
          "output_type": "execute_result",
          "execution_count": 23,
          "data": {
            "text/plain": "[1, 4, 9, 16, 25, 36, 49, 64, 81, 100]"
          },
          "metadata": {}
        }
      ]
    },
    {
      "metadata": {
        "trusted": true
      },
      "cell_type": "code",
      "source": "# 8. Из заданного списка отфильтровать все положительные числа\nlist_num = [random.randint(-9, 9) for _ in range(20)]\n\nprint(list_num)\nprint(list(filter(lambda x: x > 0, list_num)))",
      "execution_count": 24,
      "outputs": [
        {
          "output_type": "stream",
          "text": "[8, -8, 5, 5, -4, -7, -1, -3, 4, 8, -8, -3, -3, 4, 5, -5, 1, -7, 3, -2]\n[8, 5, 5, 4, 8, 4, 5, 1, 3]\n",
          "name": "stdout"
        }
      ]
    },
    {
      "metadata": {
        "trusted": true
      },
      "cell_type": "code",
      "source": "a = lambda x: x ** 2;\na(5)",
      "execution_count": 27,
      "outputs": [
        {
          "output_type": "execute_result",
          "execution_count": 27,
          "data": {
            "text/plain": "25"
          },
          "metadata": {}
        }
      ]
    },
    {
      "metadata": {
        "trusted": true
      },
      "cell_type": "code",
      "source": "# 9. Из заданного списка все положительные числа возвести в квадрат, остальные приравнять к нулю\nprint(list_num)\nprint(list(map(lambda x: x ** 2 if x > 0 else 0, list_num)))  # инлайновый if можно использовать",
      "execution_count": 28,
      "outputs": [
        {
          "output_type": "stream",
          "text": "[8, -8, 5, 5, -4, -7, -1, -3, 4, 8, -8, -3, -3, 4, 5, -5, 1, -7, 3, -2]\n[64, 0, 25, 25, 0, 0, 0, 0, 16, 64, 0, 0, 0, 16, 25, 0, 1, 0, 9, 0]\n",
          "name": "stdout"
        }
      ]
    },
    {
      "metadata": {},
      "cell_type": "markdown",
      "source": "---\nДля чего могут быть полезны lambda функции? Рассмотрим несколько примеров:  \n\nПредположим мы хотим отсортировать словарь по значениям. По умолчанию, словать сортируется по ключам"
    },
    {
      "metadata": {
        "trusted": true
      },
      "cell_type": "code",
      "source": "d = { 2: \"c\", 1:\"d\", 4:\"a\", 3:\"b\"}\n\nprint(sorted(d))  # [1, 2, 3, 4]",
      "execution_count": null,
      "outputs": []
    },
    {
      "metadata": {
        "trusted": true
      },
      "cell_type": "code",
      "source": "# Чтобы отсортировать его по ключам нужно сделать так\nprint(dict(sorted(d.items())))  #[(1, 'd'), (2, 'c'), (3, 'b'), (4, 'a')]",
      "execution_count": null,
      "outputs": []
    },
    {
      "metadata": {},
      "cell_type": "markdown",
      "source": "А вот чтобы отсортировать по значениям, нужно указать, что сортировать нужно по второму значению из каждого пары ключ-значение. Тут на помощь как раз приходят lambda функции. У встроенной функции `sortred()` можно задать аргумент *key*, который укажет, по какому ключу нужно производить сортировку "
    },
    {
      "metadata": {
        "trusted": true
      },
      "cell_type": "code",
      "source": "sorted(d.items(), key=lambda x: x[1])  # сортировка по значению словаря",
      "execution_count": null,
      "outputs": []
    },
    {
      "metadata": {
        "trusted": true
      },
      "cell_type": "code",
      "source": "# ещё один альтернативный способ с помощью модуля operator, содержащего многие действия в виде функций\nfrom operator import itemgetter\n\nsorted(d.items(), key=itemgetter(1))",
      "execution_count": null,
      "outputs": []
    },
    {
      "metadata": {},
      "cell_type": "markdown",
      "source": "Предположим у нас есть список с данными о росте и весе людей. Задача отсортировать их по [индексу](https://www.adme.ru/svoboda-sdelaj-sam/professionalnye-tablicy-sootnosheniya-vesa-i-rosta-996960/) массы тела. Он вычисляется по формуле:  \n\n$$\\frac{Вес\\ тела\\ в\\ киллограммах}{Рост\\ в\\ метрах * Рост\\ в\\ метрах}$$"
    },
    {
      "metadata": {
        "trusted": true
      },
      "cell_type": "code",
      "source": "data = [(82, 191), \n        (68, 174),\n        (90, 189), \n        (73, 179), \n        (76, 184)]\n\nsorted(data, key=lambda x: x[0] / x[1] ** 2)",
      "execution_count": null,
      "outputs": []
    },
    {
      "metadata": {
        "trusted": true
      },
      "cell_type": "code",
      "source": "# Точно такой же ключ можно указывать к функциях max/min\n\nprint(min(data))  # отбор по первому элементу\nprint(min(data, key=lambda x: x[0] / x[1] ** 2))  # отбор по ключу",
      "execution_count": null,
      "outputs": []
    },
    {
      "metadata": {},
      "cell_type": "markdown",
      "source": "### Подведем итоги:\n- lambda функции используются один раз\n- не загромождают код программы\n- после выполения сразу удаляются\n- могут выполнять только одно действие"
    }
  ],
  "metadata": {
    "kernelspec": {
      "name": "python36",
      "display_name": "Python 3.6",
      "language": "python"
    },
    "language_info": {
      "mimetype": "text/x-python",
      "nbconvert_exporter": "python",
      "name": "python",
      "pygments_lexer": "ipython3",
      "version": "3.6.6",
      "file_extension": ".py",
      "codemirror_mode": {
        "version": 3,
        "name": "ipython"
      }
    }
  },
  "nbformat": 4,
  "nbformat_minor": 2
}