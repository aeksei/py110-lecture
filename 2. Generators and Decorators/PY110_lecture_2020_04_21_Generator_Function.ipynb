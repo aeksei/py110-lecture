{
  "cells": [
    {
      "metadata": {},
      "cell_type": "markdown",
      "source": "# Функции-генераторы"
    },
    {
      "metadata": {},
      "cell_type": "markdown",
      "source": "![common iterators description](../images/generators.png \"Logo Title Text 1\")"
    },
    {
      "metadata": {},
      "cell_type": "markdown",
      "source": "Выражения-генераторы позволяют нам создавать генераторы, не хранящие элементы в памяти, а вычисляющие их при каждом запросе.  \nОднако, у выражений есть минус – с помощью них нельзя реализовать сложную логику.  \nДля сложного существуют **функции-генераторы**."
    },
    {
      "metadata": {},
      "cell_type": "markdown",
      "source": "```python\ndef gen_function(*args, **kwargs):\n    # тело генератора\n    \n    yield result\n    \n    # конец тела генератора\n```\n\n**Функции-генераторы** – обычные функции, в которых вместо слова `return` используется ключевое слово `yield`.  \nПри этом при вызове функции вы получаете объект-генератор, реализующий внутреннюю логику функции.  \n\nКаждый раз, когда выполняется `yield`, объект сохраняет свой контекст выполнения (значения всех переменных, стек вызовов и т.д.)  \nПри следующем вызове `next` к этому объекту контекст восстанавливается и объект продолжает выполняться с этой же точки  "
    },
    {
      "metadata": {
        "trusted": true
      },
      "cell_type": "code",
      "source": "# попробуем реализовать бесконечный счетчик count из модуля itertools\ndef count(start, step):\n    counter = start\n    while True:\n        yield counter\n        counter += step",
      "execution_count": 2,
      "outputs": []
    },
    {
      "metadata": {
        "trusted": true
      },
      "cell_type": "code",
      "source": "my_gen_func = count(100, 10)\nfor i in range(10):\n    print(next(my_gen_func))  # с функцией генератором также работает next",
      "execution_count": 4,
      "outputs": [
        {
          "output_type": "stream",
          "text": "100\n110\n120\n130\n140\n150\n160\n170\n180\n190\n",
          "name": "stdout"
        }
      ]
    },
    {
      "metadata": {
        "trusted": true
      },
      "cell_type": "code",
      "source": "# функция генератор уже является итератором\nid(my_gen_func) == id(iter(my_gen_func))",
      "execution_count": 5,
      "outputs": [
        {
          "output_type": "execute_result",
          "execution_count": 5,
          "data": {
            "text/plain": "True"
          },
          "metadata": {}
        }
      ]
    },
    {
      "metadata": {},
      "cell_type": "markdown",
      "source": "---\nКак и все генераторы, функция-генератор останавливается с вызовом `StopIteration`.  \n\nЭто происходит при следующих условиях:\n1. Интерпретатор достиг конца выполнения функции и не встретил никаких инструкций\n- В функции был выполнен return\n- «Вручную» вызвано неперехваченное исключение `StopIteration`"
    },
    {
      "metadata": {
        "trusted": true
      },
      "cell_type": "code",
      "source": "def first_gen(input_):\n    yield input_\n    input_ += 1\n    print(input_)\n    \n    \nmy_first_gen = first_gen(5)\n\nprint(next(my_first_gen))",
      "execution_count": 6,
      "outputs": [
        {
          "output_type": "stream",
          "text": "5\n",
          "name": "stdout"
        }
      ]
    },
    {
      "metadata": {
        "trusted": true
      },
      "cell_type": "code",
      "source": "# StopIteration\nnext(my_first_gen)  # print из тела генератор",
      "execution_count": 7,
      "outputs": [
        {
          "output_type": "stream",
          "text": "6\n",
          "name": "stdout"
        },
        {
          "output_type": "error",
          "ename": "StopIteration",
          "evalue": "",
          "traceback": [
            "\u001b[0;31m---------------------------------------------------------------------------\u001b[0m",
            "\u001b[0;31mStopIteration\u001b[0m                             Traceback (most recent call last)",
            "\u001b[0;32m<ipython-input-7-a4413234327d>\u001b[0m in \u001b[0;36m<module>\u001b[0;34m\u001b[0m\n\u001b[1;32m      1\u001b[0m \u001b[0;31m# StopIteration\u001b[0m\u001b[0;34m\u001b[0m\u001b[0;34m\u001b[0m\u001b[0m\n\u001b[0;32m----> 2\u001b[0;31m \u001b[0mnext\u001b[0m\u001b[0;34m(\u001b[0m\u001b[0mmy_first_gen\u001b[0m\u001b[0;34m)\u001b[0m  \u001b[0;31m# print из тела генератор\u001b[0m\u001b[0;34m\u001b[0m\u001b[0m\n\u001b[0m",
            "\u001b[0;31mStopIteration\u001b[0m: "
          ]
        }
      ]
    },
    {
      "metadata": {
        "trusted": true
      },
      "cell_type": "code",
      "source": "def second_gen(input_):\n    yield input_\n    input_ += 1\n    \n    yield input_\n    input_ += 1\n    \n    return input_\n    \n    \nmy_second_gen = second_gen(10)\n\nprint(next(my_second_gen))\nprint(next(my_second_gen))\nprint(next(my_second_gen))",
      "execution_count": null,
      "outputs": []
    },
    {
      "metadata": {
        "trusted": true
      },
      "cell_type": "code",
      "source": "def last_gen():\n    for i in range(10):\n        yield i\n        if i == 5:\n            raise StopIteration\n    \nmy_last_gen = last_gen()\n\nfor _ in range(10):\n    print(next(my_last_gen))",
      "execution_count": null,
      "outputs": []
    },
    {
      "metadata": {
        "trusted": true
      },
      "cell_type": "code",
      "source": "# for перехватывает ваше исключение\nmy_last_gen = last_gen()\nfor i in my_last_gen:\n    print(i)",
      "execution_count": null,
      "outputs": []
    },
    {
      "metadata": {
        "trusted": true
      },
      "cell_type": "markdown",
      "source": "---\nРазберем ещё один пример:"
    },
    {
      "metadata": {
        "trusted": true
      },
      "cell_type": "code",
      "source": "def my_animal_generator():\n    yield 'корова'\n    print('---')\n    for animal in ['кот', 'собака', 'медведь']:\n        yield animal\n    print('---')\n    yield 'кит'\n\na = my_animal_generator()\nprint(next(a))\n# print('---') вызван не будет",
      "execution_count": 8,
      "outputs": [
        {
          "output_type": "stream",
          "text": "корова\n",
          "name": "stdout"
        }
      ]
    },
    {
      "metadata": {
        "trusted": true
      },
      "cell_type": "code",
      "source": "print(next(a))\n\nfor i in a:\n    print(i)",
      "execution_count": 9,
      "outputs": [
        {
          "output_type": "stream",
          "text": "---\nкот\nсобака\nмедведь\n---\nкит\n",
          "name": "stdout"
        }
      ]
    },
    {
      "metadata": {},
      "cell_type": "markdown",
      "source": "---\nПопробуем реализивать генератор чисел Фибоначчи. \nПоследовательность чисел Фибоначчи представляет собой:  \n0, 1, 1, 2, 3, 5, 8, 13, 21, 34, 55, 89, 144, 233, 377, 610, 987, 1597, 2584, 4181, 6765, 10946, 17711 ...\n\nА общая формула имеет следующий вид:  \n\n$$F_0=0,  F_1=1$$  \n\n$$F_n=F_{n-1}+F_{n-2}, n\\geq\\ 2$$"
    },
    {
      "metadata": {
        "trusted": true
      },
      "cell_type": "code",
      "source": "def fib():\n    a, b = 0, 1\n    yield a  # F0\n    yield b  # F1\n\n    while True:\n        a, b = b, a + b\n        yield b",
      "execution_count": 10,
      "outputs": []
    },
    {
      "metadata": {
        "trusted": true
      },
      "cell_type": "code",
      "source": "for num in fib():\n    print(num)\n    if num > 10000:\n        break",
      "execution_count": 11,
      "outputs": [
        {
          "output_type": "stream",
          "text": "0\n1\n1\n2\n3\n5\n8\n13\n21\n34\n55\n89\n144\n233\n377\n610\n987\n1597\n2584\n4181\n6765\n10946\n",
          "name": "stdout"
        }
      ]
    },
    {
      "metadata": {},
      "cell_type": "markdown",
      "source": "С помощью метода `close()` можно закрыть генератор  "
    },
    {
      "metadata": {
        "trusted": true
      },
      "cell_type": "code",
      "source": "fib_gen = fib()\nfib_gen.close()  # закрыли генератор\n\nfor i in fib_gen:  # цикл не выполнится ни одного раза\n    print(i)\n    \nfib_gen",
      "execution_count": 13,
      "outputs": [
        {
          "output_type": "execute_result",
          "execution_count": 13,
          "data": {
            "text/plain": "<generator object fib at 0x7fd3f8a5f990>"
          },
          "metadata": {}
        }
      ]
    },
    {
      "metadata": {
        "trusted": true
      },
      "cell_type": "markdown",
      "source": "Итак, с помощью функции-генератора мы с вами написали эффективную реализацию последовательности чисел Фибоначчи, которой для вычисления необходимо хранить в памяти только два предыдущих числа, а вычисления происходят только в момент вызова функции-генератора. "
    },
    {
      "metadata": {
        "trusted": true
      },
      "cell_type": "markdown",
      "source": "Функции генераторы применяются в тех случаях, когда вам:\n- необходимо сэкономить память при работе с массивными структурами (ленивые вычисления)\n- удобна логика работы генератора, внутри которого можно описать сложный процесс выбора\n\nПример, который вам может пригодиться – построчное чтение 5Гб файла  \n\nПримеры модулей:\n- `keras` – генератор данных для обучения\n- `faker` – генерация фейковых данных для заполнения и тестирования объектов\n- `gmp2` – генерация простых чисел\n\n\n"
    },
    {
      "metadata": {},
      "cell_type": "markdown",
      "source": "---\n## Корутины (Coroutines)"
    },
    {
      "metadata": {},
      "cell_type": "markdown",
      "source": "В языке Python генераторы могут использоваться и в «обратную сторону» – принимая в себя внутрь значения.  \nДо этого мы только получали значения из наших генераторов, посмотрим теперь, как сделать так, чтобы можно было передавать информацию внутрь нашего генератора."
    },
    {
      "metadata": {},
      "cell_type": "markdown",
      "source": "Попробуем сделать, корутину, которая будет принимать некий паттерн, проверять его наличие в какой-либо строке и подсчитывать количество вхождений."
    },
    {
      "metadata": {
        "trusted": true
      },
      "cell_type": "code",
      "source": "def grep(pattern):\n    i = 0\n    while True:\n        line = yield  # отличие от генератора\n        if pattern in line:\n            i += 1\n            print(f\"Found! Count: {i}\")",
      "execution_count": 14,
      "outputs": []
    },
    {
      "metadata": {},
      "cell_type": "markdown",
      "source": "Отличие в синтаксисе только в том, что теперь слева от `yield` стоит переменная, которая будет принимать значение, которое мы передаем из вне."
    },
    {
      "metadata": {
        "trusted": true
      },
      "cell_type": "code",
      "source": "g = grep(\"python\")  # создаем объект корутину, которой в качетве аргумента передаем паттерн",
      "execution_count": 15,
      "outputs": []
    },
    {
      "metadata": {},
      "cell_type": "markdown",
      "source": "Единственная особенность в том, чтобы запустить корутину, её нужно проинициализировать.\nДелается это с помощью команды `next(coroutine)` либо `coroutine.send(None)`, что является одним и тем же\n\n$$next(coroutine) \\equiv coroutine.send(None)$$\n\nРанее, когда мы делали команду `next()` к нашему генератору, мы делали ему `send(None)`"
    },
    {
      "metadata": {
        "trusted": true
      },
      "cell_type": "code",
      "source": "# инициализируем корутину\ng.send(None)  # либо next(g)",
      "execution_count": 16,
      "outputs": []
    },
    {
      "metadata": {
        "trusted": true
      },
      "cell_type": "code",
      "source": "# отправим нашей корутине, новое значение для проверки вхождения в строку\ng.send(\"some string here python\")",
      "execution_count": 17,
      "outputs": [
        {
          "output_type": "stream",
          "text": "Found! Count: 1\n",
          "name": "stdout"
        }
      ]
    },
    {
      "metadata": {
        "trusted": true
      },
      "cell_type": "code",
      "source": "g.send(\"anouther string\")",
      "execution_count": 18,
      "outputs": []
    },
    {
      "metadata": {
        "trusted": true
      },
      "cell_type": "code",
      "source": "g.send(\"python python!!!\")",
      "execution_count": 19,
      "outputs": [
        {
          "output_type": "stream",
          "text": "Found! Count: 2\n",
          "name": "stdout"
        }
      ]
    },
    {
      "metadata": {
        "trusted": true
      },
      "cell_type": "code",
      "source": "# чтобы закрыть корутину можно использовать метод close\ng.close()",
      "execution_count": 20,
      "outputs": []
    },
    {
      "metadata": {},
      "cell_type": "markdown",
      "source": "Попробуем прислать нашей корутине, первым действием что-то отличное от `None`"
    },
    {
      "metadata": {
        "trusted": true
      },
      "cell_type": "code",
      "source": "g = grep(\"new_pattern\")\n\ng.send(\"New string with new_pattern\")",
      "execution_count": 22,
      "outputs": [
        {
          "output_type": "error",
          "ename": "TypeError",
          "evalue": "can't send non-None value to a just-started generator",
          "traceback": [
            "\u001b[0;31m---------------------------------------------------------------------------\u001b[0m",
            "\u001b[0;31mTypeError\u001b[0m                                 Traceback (most recent call last)",
            "\u001b[0;32m<ipython-input-22-626b2bb46b30>\u001b[0m in \u001b[0;36m<module>\u001b[0;34m\u001b[0m\n\u001b[1;32m      1\u001b[0m \u001b[0mg\u001b[0m \u001b[0;34m=\u001b[0m \u001b[0mgrep\u001b[0m\u001b[0;34m(\u001b[0m\u001b[0;34m\"new_pattern\"\u001b[0m\u001b[0;34m)\u001b[0m\u001b[0;34m\u001b[0m\u001b[0m\n\u001b[1;32m      2\u001b[0m \u001b[0;34m\u001b[0m\u001b[0m\n\u001b[0;32m----> 3\u001b[0;31m \u001b[0mg\u001b[0m\u001b[0;34m.\u001b[0m\u001b[0msend\u001b[0m\u001b[0;34m(\u001b[0m\u001b[0;34m\"New string with new_pattren\"\u001b[0m\u001b[0;34m)\u001b[0m\u001b[0;34m\u001b[0m\u001b[0m\n\u001b[0m",
            "\u001b[0;31mTypeError\u001b[0m: can't send non-None value to a just-started generator"
          ]
        }
      ]
    },
    {
      "metadata": {},
      "cell_type": "markdown",
      "source": "И получим соответсвующую ошибку, что только что стартовавшему генератору, нельзя присылать значение отличное от `None`"
    },
    {
      "metadata": {},
      "cell_type": "markdown",
      "source": "---\nРассмотрим момент, который окончательно \"вынесет мозг\". Это когда корутина может одновременно принимать и отправлять данные.  \n\nДавайте сделаем генератор, который будет возвращать нам бесконечную арифметическую прогрессию, то мы сможем переопределять начальные значения после запуска генератора."
    },
    {
      "metadata": {
        "trusted": true
      },
      "cell_type": "code",
      "source": "def counter(start, step):\n    n = start\n    while True:\n        input_data = yield n\n        if input_data is not None:\n            n = input_data[0]\n            step = input_data[1]\n        else:\n            n += step",
      "execution_count": null,
      "outputs": []
    },
    {
      "metadata": {
        "trusted": true
      },
      "cell_type": "code",
      "source": "c = counter(100, 10)  # создаем корутину с начальными значениями\nfor _ in range(10):\n    print(c.send(None))",
      "execution_count": null,
      "outputs": []
    },
    {
      "metadata": {
        "trusted": true
      },
      "cell_type": "code",
      "source": "# передаем корутине новые значения старта и шага прогресии без создания новой корутины\nprint(c.send((500, 1)))  ",
      "execution_count": null,
      "outputs": []
    },
    {
      "metadata": {
        "trusted": true
      },
      "cell_type": "code",
      "source": "for _ in range(10):\n    print(c.send(None))\n    \nc.close()",
      "execution_count": null,
      "outputs": []
    },
    {
      "metadata": {},
      "cell_type": "markdown",
      "source": "---\n### Пример использования:\nЖивой пример использования данной идеи – модуль tornado\nАсинхронная сетевая библиотека для обработки запросов\nскалируется до десятков тысяч одновременно открытых соединений\nпостроен на генераторах и корутинах (с кучей дополнительного, конечно же)\n\nРазница между Django и Tornado на задачах вида «загрузи ответ от другого сервера и верни мне данные» – до 10 раз в пользу торнадо (и других асинхронных фреймворков) [источник](https://klen.github.io/python-web-benchmarks.html)"
    },
    {
      "metadata": {},
      "cell_type": "markdown",
      "source": "---\n### Подведем итоги по генераторам и корутинам:\nВ более общем смысле, генераторы и корутины – это объекты, которые умеют получать управление, выполнять некоторую работу и отдавать управление обратно.  \nДанная логика работы называется «кооперативная многозадачность». Грамотно реализуя преимущества данной логики, можно построить на языке Python приложения, обрабатывающие десятки тысяч запросов ежесекундно.\n\nБолее подробно с многозачачностями можно познакомиться [тут](https://kvckr.github.io/mag/sp/7.html)"
    }
  ],
  "metadata": {
    "kernelspec": {
      "name": "python36",
      "display_name": "Python 3.6",
      "language": "python"
    },
    "language_info": {
      "mimetype": "text/x-python",
      "nbconvert_exporter": "python",
      "name": "python",
      "pygments_lexer": "ipython3",
      "version": "3.6.6",
      "file_extension": ".py",
      "codemirror_mode": {
        "version": 3,
        "name": "ipython"
      }
    }
  },
  "nbformat": 4,
  "nbformat_minor": 2
}