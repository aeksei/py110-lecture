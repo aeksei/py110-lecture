{
  "cells": [
    {
      "metadata": {},
      "cell_type": "markdown",
      "source": "# Advanced functions\nВспоминаем материал лекции"
    },
    {
      "metadata": {},
      "cell_type": "markdown",
      "source": "## Any, All"
    },
    {
      "metadata": {},
      "cell_type": "markdown",
      "source": "Any - функция, которая возвращает True, если под условие попадает хотя бы один элемент последовательности."
    },
    {
      "metadata": {
        "trusted": false
      },
      "cell_type": "code",
      "source": "# что вернет эта функция? Сможете предугадать?\nprint(any(a > 3 for a in range(5)))",
      "execution_count": null,
      "outputs": []
    },
    {
      "metadata": {
        "trusted": false
      },
      "cell_type": "code",
      "source": "# а вот эта? Почему?\nprint(any(i for i in range(2)))",
      "execution_count": null,
      "outputs": []
    },
    {
      "metadata": {},
      "cell_type": "markdown",
      "source": "All - аналогично, но под условие должны попадать **все** элементы"
    },
    {
      "metadata": {
        "trusted": false
      },
      "cell_type": "code",
      "source": "print(all(i > 2 for i in [1, 3, 5]))\nprint(all(i > 2 for i in [3, 3, 5]))",
      "execution_count": null,
      "outputs": []
    },
    {
      "metadata": {},
      "cell_type": "markdown",
      "source": "## Lambda функции\nЛямбда функции - безымянные функции длиной не более 1-й строчки, которые удобны там, где вам лень создавать функцию отдельно.  \nПримеры:"
    },
    {
      "metadata": {
        "trusted": false
      },
      "cell_type": "code",
      "source": "print(list(map(lambda x: x**2, [1, 2, 3])))\nprint(sorted([(1,2), (3,4), (4,1)], key=lambda x: x[0] + x[1]))",
      "execution_count": null,
      "outputs": []
    },
    {
      "metadata": {},
      "cell_type": "markdown",
      "source": "## Функции-генераторы\nФункции-генераторы позволяют реализовывать гораздо более сложную логику, нежели простые свертки списков.  \nДля возврата значений используют ключевое слово yield.  \nНапример, я хочу бесконечную последовательность единиц, перед которой идет 2 нуля."
    },
    {
      "metadata": {
        "trusted": false
      },
      "cell_type": "code",
      "source": "def strange_fun():\n    for i in range(5):\n        yield 0\n    while True:\n        yield 1",
      "execution_count": null,
      "outputs": []
    },
    {
      "metadata": {
        "trusted": false
      },
      "cell_type": "code",
      "source": "for i in strange_fun():\n    print(i, end=\"\")",
      "execution_count": null,
      "outputs": []
    },
    {
      "metadata": {},
      "cell_type": "markdown",
      "source": "Вы же уже научились сворачивать вывод ячейки, правда? :)  \nЕсли нет - нажмите слева от вывода (под словом In[..], область будет подсвечена)"
    },
    {
      "metadata": {},
      "cell_type": "markdown",
      "source": "После окончания генератора точно также возвращается StopIteration. Помните, что for автоматически его перехватывает."
    },
    {
      "metadata": {
        "trusted": false
      },
      "cell_type": "code",
      "source": "def strange_fun():\n    for i in range(1):\n        yield 0\n    for i in range(1):\n        yield 1\n\na = strange_fun()\n\nprint(next(a))\nprint(next(a))\nprint(next(a))",
      "execution_count": null,
      "outputs": []
    },
    {
      "metadata": {},
      "cell_type": "markdown",
      "source": "## Корутины\nКорутины - это генераторы, принимающие в себя значения"
    },
    {
      "metadata": {
        "trusted": false
      },
      "cell_type": "code",
      "source": "def str_fun():\n    buf = []\n    while True:\n        inp_str = yield\n        buf.append(inp_str)\n        print(buf)\n        \na = str_fun()\nnext(a)       # инициализация\na.send(\"a\")\na.send(\"Hello\")\na.send(\"There is no spoon.\")",
      "execution_count": null,
      "outputs": []
    },
    {
      "metadata": {},
      "cell_type": "markdown",
      "source": "А теперь соберем все это вместе - будем принимать значения и выводить"
    },
    {
      "metadata": {
        "trusted": false
      },
      "cell_type": "code",
      "source": "def str_fun():\n    buf = []\n    while True:\n        inp_str = yield buf  # можно в одну строчку, а можно yield buf на отдельной\n        buf.append(inp_str)\n\na = str_fun()\n\nnext(a)\nprint(a.send(\"a\"))\nprint(a.send(\"Hello\"))\nprint(a.send(\"There is no spoon.\"))",
      "execution_count": null,
      "outputs": []
    },
    {
      "metadata": {},
      "cell_type": "markdown",
      "source": "Надеюсь, это уложилось у вас в голове. :) Если нет - поковыряйте еще, попишите разные корутины (например, разберите пример с лекционных слайдов).  \nНа практиках будет сложнее."
    }
  ],
  "metadata": {
    "kernelspec": {
      "name": "python3",
      "display_name": "Python 3",
      "language": "python"
    },
    "language_info": {
      "mimetype": "text/x-python",
      "nbconvert_exporter": "python",
      "name": "python",
      "pygments_lexer": "ipython3",
      "version": "3.5.4",
      "file_extension": ".py",
      "codemirror_mode": {
        "version": 3,
        "name": "ipython"
      }
    }
  },
  "nbformat": 4,
  "nbformat_minor": 2
}